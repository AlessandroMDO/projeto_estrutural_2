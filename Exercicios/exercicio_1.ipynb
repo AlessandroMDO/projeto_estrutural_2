{
 "cells": [
  {
   "cell_type": "markdown",
   "id": "fa4df556-d4ee-43e8-be36-19886ec54358",
   "metadata": {},
   "source": [
    "EXERCICIO I - SAA0205\n",
    "\n",
    "Nome: Alessandro Melo de Oliveira\n",
    "\n",
    "NºUSP: 10788662"
   ]
  },
  {
   "cell_type": "markdown",
   "id": "854cfc37-abd6-4902-b033-12e2067fedc6",
   "metadata": {},
   "source": [
    "# EXERCÍCIO I"
   ]
  },
  {
   "cell_type": "code",
   "execution_count": 101,
   "id": "b8ea1f65-95de-4a4b-b082-0fb8157b50a8",
   "metadata": {},
   "outputs": [],
   "source": [
    "# Lâminas 1 e 4 são 45º (Q_barra_II)\n",
    "# Lâminas 2 e 3 são 0º (Q_barra_I)"
   ]
  },
  {
   "cell_type": "code",
   "execution_count": 102,
   "id": "e220fad7-4fcf-423a-89cf-494e57de9a59",
   "metadata": {},
   "outputs": [],
   "source": [
    "import sympy as sp\n",
    "from sympy import pi"
   ]
  },
  {
   "cell_type": "code",
   "execution_count": 103,
   "id": "04e41292-cd3b-4ee4-b339-21358bdb0125",
   "metadata": {},
   "outputs": [],
   "source": [
    "m,n = sp.symbols('m n')"
   ]
  },
  {
   "cell_type": "code",
   "execution_count": 104,
   "id": "2e609ea3-1db8-459c-a2f9-af21859f47fa",
   "metadata": {},
   "outputs": [],
   "source": [
    "h0 = -6\n",
    "h1 = -3\n",
    "h2 = 0\n",
    "h3 = 3\n",
    "h4 = 6"
   ]
  },
  {
   "cell_type": "code",
   "execution_count": 105,
   "id": "ad730324-b7b3-4dc7-bad2-a2c44ef9b2f9",
   "metadata": {},
   "outputs": [],
   "source": [
    "# Gpa\n",
    "E11 = 19.76\n",
    "E22 = 1.97\n",
    "v12 = 0.35\n",
    "G12 = 0.7\n",
    "\n",
    "N = sp.Matrix([1000,200,0])"
   ]
  },
  {
   "cell_type": "code",
   "execution_count": 106,
   "id": "9890ed75-0cae-4b93-be54-e6e710362257",
   "metadata": {},
   "outputs": [],
   "source": [
    "Q11_value = (E11**2)/(E11-v12**2 * E22)\n",
    "Q21_value =  (v12*E11*E22)/(E11-v12**2 * E22)\n",
    "Q22_value = (E11*E22)/(E11-v12**2 * E22)\n",
    "Q66_value = G12"
   ]
  },
  {
   "cell_type": "code",
   "execution_count": 107,
   "id": "98c67d7d-7983-436e-8ce9-8f79b5729562",
   "metadata": {},
   "outputs": [],
   "source": [
    "Q = sp.zeros(3,3)"
   ]
  },
  {
   "cell_type": "code",
   "execution_count": 108,
   "id": "a338ab43-2fce-4794-bf64-96455d1c7985",
   "metadata": {},
   "outputs": [],
   "source": [
    "Q[0,0] = Q11_value\n",
    "Q[0,1] = Q21_value\n",
    "Q[0,2] = 0\n",
    "Q[1,0] = Q21_value\n",
    "Q[1,1] = Q22_value\n",
    "Q[1,2] = 0\n",
    "Q[2,0] = 0\n",
    "Q[2,1] = 0\n",
    "Q[2,2] = Q66_value"
   ]
  },
  {
   "cell_type": "code",
   "execution_count": 109,
   "id": "3f9b65b4-a59e-41e7-8c9a-9ce6bf02fcd4",
   "metadata": {},
   "outputs": [
    {
     "data": {
      "text/latex": [
       "$\\displaystyle \\left[\\begin{matrix}20.0043086941096 & 0.698024840313187 & 0\\\\0.698024840313187 & 1.99435668660911 & 0\\\\0 & 0 & 0.7\\end{matrix}\\right]$"
      ],
      "text/plain": [
       "Matrix([\n",
       "[ 20.0043086941096, 0.698024840313187,   0],\n",
       "[0.698024840313187,  1.99435668660911,   0],\n",
       "[                0,                 0, 0.7]])"
      ]
     },
     "execution_count": 109,
     "metadata": {},
     "output_type": "execute_result"
    }
   ],
   "source": [
    "Q"
   ]
  },
  {
   "cell_type": "code",
   "execution_count": 110,
   "id": "cf7e9087-350e-49be-9a78-e1ab5cd2077a",
   "metadata": {},
   "outputs": [],
   "source": [
    "Q11, Q12, Q16, Q22, Q26, Q16, Q66 = sp.symbols('Q11 Q12 Q16 Q22 Q26 Q16 Q66')"
   ]
  },
  {
   "cell_type": "code",
   "execution_count": 111,
   "id": "31982803-b464-4ee7-8bb4-8e8bab6ed6c3",
   "metadata": {},
   "outputs": [],
   "source": [
    "Q_barra = sp.zeros(3,3)"
   ]
  },
  {
   "cell_type": "code",
   "execution_count": 112,
   "id": "438708d7-f505-42af-829b-c5432d6e7c85",
   "metadata": {},
   "outputs": [],
   "source": [
    "Q_barra[0,0] =  Q11*m**4 + 2*m**2 * n**2 * (Q12 + 2*Q66) + Q22*n**4\n",
    "Q_barra[0,1] = (Q11 + Q22 - 4*Q66)*n**2 * m**2 + Q12*(n**4 + m**4)\n",
    "Q_barra[0,2] = (Q11 - Q12)*n*(m**3) + (Q12 - Q22)*(n**3)*m - 2*m*n*(m**2 - n**2)*Q66\n",
    "Q_barra[1,0] = (Q11 + Q22 - 4*Q66)*n**2 * m**2 + Q12*(n**4 + m**4)\n",
    "Q_barra[1,1] = Q11*n**4 + 2*(Q12 + 2*Q66)*n**2 * m**2 + Q22*m**4\n",
    "Q_barra[1,2] = (Q11 - Q12)*n**3*m + (Q12 - Q22)*n*m**3 + 2*m*n*(m**2 - n**2)*Q66\n",
    "Q_barra[2,0] = (Q11 - Q12)*n*m**3 + (Q12 - Q22)*n**3*m - 2*m*n*(m**2 - n**2)*Q66\n",
    "Q_barra[2,1] = (Q11 - Q12)*(n**3)*m + (Q12 - Q22)*n*(m**3) + 2*m*n*(m**2 - n**2)*Q66\n",
    "Q_barra[2,2] = (Q11 + Q22 - 2*Q12 - 2*Q66)*n**2 * m**2 + Q66*(n**4 + m**4)"
   ]
  },
  {
   "cell_type": "code",
   "execution_count": 113,
   "id": "455ac549-a529-47e3-8b0e-41cbd82e98d6",
   "metadata": {},
   "outputs": [],
   "source": [
    "# Lâminas 2 e 3 , com theta = 0\n",
    "Q_barra_I = Q_barra.subs({\n",
    "    m:sp.cos(0),\n",
    "    n:sp.sin(0)\n",
    "})\n",
    "\n",
    "Q_barra_I = Q_barra_I.subs({\n",
    "    Q11 :Q11_value,\n",
    "    Q12 : Q21_value,\n",
    "    Q66 : Q66_value,\n",
    "    Q22 : Q22_value\n",
    "})"
   ]
  },
  {
   "cell_type": "code",
   "execution_count": 114,
   "id": "20845ed2-6883-42fa-82d4-6eb5a9644e1a",
   "metadata": {},
   "outputs": [],
   "source": [
    "# Lâminas 1 e 4 , com theta = pi/4\n",
    "Q_barra_II = Q_barra.subs({\n",
    "    m:sp.cos(pi/4),\n",
    "    n:sp.sin(pi/4)\n",
    "})\n",
    "\n",
    "Q_barra_II = Q_barra_II.subs({\n",
    "    Q11 :Q11_value,\n",
    "    Q12 : Q21_value,\n",
    "    Q66 : Q66_value,\n",
    "    Q22 : Q22_value\n",
    "})"
   ]
  },
  {
   "cell_type": "code",
   "execution_count": 115,
   "id": "7328d995-fe27-49b6-89db-1992c98a0a97",
   "metadata": {},
   "outputs": [
    {
     "data": {
      "text/latex": [
       "$\\displaystyle \\left[\\begin{matrix}6.54867876533628 & 5.14867876533627 & 4.50248800187513\\\\5.14867876533627 & 6.54867876533628 & 4.50248800187513\\\\4.50248800187513 & 4.50248800187513 & 5.15065392502309\\end{matrix}\\right]$"
      ],
      "text/plain": [
       "Matrix([\n",
       "[6.54867876533628, 5.14867876533627, 4.50248800187513],\n",
       "[5.14867876533627, 6.54867876533628, 4.50248800187513],\n",
       "[4.50248800187513, 4.50248800187513, 5.15065392502309]])"
      ]
     },
     "execution_count": 115,
     "metadata": {},
     "output_type": "execute_result"
    }
   ],
   "source": [
    "Q_barra_II"
   ]
  },
  {
   "cell_type": "code",
   "execution_count": 116,
   "id": "24fdf251-911b-4d02-919f-11ac55eb8160",
   "metadata": {},
   "outputs": [],
   "source": [
    "Q1 = Q_barra_II\n",
    "Q2 = Q_barra_I\n",
    "Q3 = Q_barra_I\n",
    "Q4 = Q_barra_II"
   ]
  },
  {
   "cell_type": "code",
   "execution_count": 117,
   "id": "4d672e7b-4f5a-4fb7-8d20-e10d5fc905cc",
   "metadata": {},
   "outputs": [],
   "source": [
    "Q_barra_list = [Q_barra_II, Q_barra_I, Q_barra_I, Q_barra_II]\n",
    "A = sp.zeros(3)\n",
    "B = sp.zeros(3)\n",
    "D = sp.zeros(3)"
   ]
  },
  {
   "cell_type": "code",
   "execution_count": 118,
   "id": "04f8c71c-876e-4d52-8dda-627bf690c59b",
   "metadata": {},
   "outputs": [],
   "source": [
    "A = Q1*(h1-h0) + Q2*(h2-h1) + Q3*(h3-h2) + Q4*(h4-h3)\n",
    "B = (Q1*(h1**2-h0**2) + Q2*(h2**2-h1**2) + Q3*(h3**2-h2**2) + Q4*(h4**2-h3**2))/2\n",
    "D = (Q1*(h1**3-h0**3) + Q2*(h2**3-h1**3) + Q3*(h3**3-h2**3) + Q4*(h4**3-h3**3))/3"
   ]
  },
  {
   "cell_type": "code",
   "execution_count": 119,
   "id": "38b61f52-8692-4d31-80eb-3f731cc9ed07",
   "metadata": {},
   "outputs": [],
   "source": [
    "A_ast= A**-1\n",
    "B_ast= -(A**-1 * B)\n",
    "C_ast= B*(A**-1)\n",
    "D_ast= D - B*(A**-1)*B"
   ]
  },
  {
   "cell_type": "code",
   "execution_count": 120,
   "id": "12b104b9-e61c-49a1-93bb-fb84626ab846",
   "metadata": {},
   "outputs": [],
   "source": [
    "A_linha = A_ast + (B_ast)*(D_ast**-1)*B_ast.T\n",
    "B_linha = B_ast*D**-1\n",
    "C_linha = B_linha\n",
    "D_linha = D_ast**-1"
   ]
  },
  {
   "cell_type": "code",
   "execution_count": 121,
   "id": "2dc65909-57cc-4a04-acd1-d14a8bc3a765",
   "metadata": {},
   "outputs": [],
   "source": [
    "episilon0 = A_linha*N\n",
    "sigma_14 = Q1*episilon0\n",
    "sigma_23 = Q2*episilon0"
   ]
  },
  {
   "cell_type": "code",
   "execution_count": 122,
   "id": "20e26927-890d-4231-b583-b1334586ac78",
   "metadata": {},
   "outputs": [],
   "source": [
    "T = sp.zeros(3)\n",
    "T[0,0] = m**2 \n",
    "T[0,1] = n**2\n",
    "T[0,2] = 2*m*n\n",
    "T[1,0] = n**2\n",
    "T[1,1] = m**2\n",
    "T[1,2] = -2*m*n\n",
    "T[2,0] = -m*n\n",
    "T[2,1] = m*n\n",
    "T[2,2] = (m**2 - n**2)"
   ]
  },
  {
   "cell_type": "code",
   "execution_count": 123,
   "id": "b8251ecc-3c9e-405e-95d3-7572ba07d621",
   "metadata": {},
   "outputs": [],
   "source": [
    "T_14 = T.subs({\n",
    "    m:sp.cos(pi/4),\n",
    "    n:sp.sin(pi/4)\n",
    "})\n",
    "\n",
    "T_23 = T.subs({\n",
    "    m:sp.cos(0),\n",
    "    n:sp.sin(0)\n",
    "})"
   ]
  },
  {
   "cell_type": "code",
   "execution_count": 124,
   "id": "87f43cd9-eb35-41b4-9793-c9b0d8531a93",
   "metadata": {},
   "outputs": [],
   "source": [
    "episilon_14_local = T_14*episilon0\n",
    "episilon_23_local = T_23*episilon0\n",
    "\n",
    "sigma_14_local = T_14*sigma_14\n",
    "sigma_23_local = T_23*sigma_23"
   ]
  },
  {
   "cell_type": "code",
   "execution_count": 125,
   "id": "4a5a6956-207a-46df-a630-b8150745d8ff",
   "metadata": {},
   "outputs": [],
   "source": [
    "## TSAR-WU"
   ]
  },
  {
   "cell_type": "code",
   "execution_count": 126,
   "id": "cb4e486a-72f6-464b-9275-361dca9b2df6",
   "metadata": {},
   "outputs": [],
   "source": [
    "XT = 250\n",
    "YT = 40\n",
    "XC = -180\n",
    "YC = -45\n",
    "S12 = 47"
   ]
  },
  {
   "cell_type": "code",
   "execution_count": 127,
   "id": "522dd48e-e11b-400b-bb99-988d67b8c9e7",
   "metadata": {},
   "outputs": [],
   "source": [
    "def tsar_wu(XT, XC, YC, YT, S12, sigma_local):\n",
    "    F1 = 1/XT + 1/XC\n",
    "    F11 = -1/(XT*XC)\n",
    "    F2 = 1/YT + 1/YC\n",
    "    F22 = -1/(YT*YC)\n",
    "    F66 = (1/S12)**2\n",
    "    F12 = -0.5*sp.sqrt(F11*F22)\n",
    "\n",
    "    A = F11*sigma_local[0]**2 + F22*sigma_local[1]**2 + F66*sigma_local[2]**2 + 2*F12*sigma_local[0]*sigma_local[1]\n",
    "    B = F1*sigma_local[0] + F2*sigma_local[1]\n",
    "\n",
    "    Sf_mais = (-B + sp.sqrt(B**2 + 4*A))/(2*A)\n",
    "    Sf_menos = (-B - sp.sqrt(B**2 + 4*A))/(2*A)\n",
    "    \n",
    "    MS = Sf_mais - 1\n",
    "    \n",
    "    print(\"A: {}\".format(A))\n",
    "    print(\"B: {}\".format(B))\n",
    "    print(\"MS: {}\".format(MS))\n",
    "    "
   ]
  },
  {
   "cell_type": "code",
   "execution_count": 128,
   "id": "edc37e09-672c-43d7-841c-92152e0a1c5f",
   "metadata": {},
   "outputs": [
    {
     "name": "stdout",
     "output_type": "stream",
     "text": [
      "A: 0.343191858541906\n",
      "B: -0.185704617968069\n",
      "MS: 0.998855454160306\n"
     ]
    }
   ],
   "source": [
    "tsar_wu(XT, XC, YC, YT, S12, sigma_23_local)"
   ]
  },
  {
   "cell_type": "code",
   "execution_count": 129,
   "id": "3118033c-d849-44fb-9189-b24a825b3c8e",
   "metadata": {},
   "outputs": [
    {
     "name": "stdout",
     "output_type": "stream",
     "text": [
      "A: 0.157369832352344\n",
      "B: 0.00591452598964021\n",
      "MS: 1.50208328137949\n"
     ]
    }
   ],
   "source": [
    "tsar_wu(XT, XC, YC, YT, S12, sigma_14_local)"
   ]
  }
 ],
 "metadata": {
  "kernelspec": {
   "display_name": "Python 3",
   "language": "python",
   "name": "python3"
  },
  "language_info": {
   "codemirror_mode": {
    "name": "ipython",
    "version": 3
   },
   "file_extension": ".py",
   "mimetype": "text/x-python",
   "name": "python",
   "nbconvert_exporter": "python",
   "pygments_lexer": "ipython3",
   "version": "3.8.11"
  }
 },
 "nbformat": 4,
 "nbformat_minor": 5
}
