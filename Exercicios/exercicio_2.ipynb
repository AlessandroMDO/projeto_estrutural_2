{
 "cells": [
  {
   "cell_type": "markdown",
   "id": "fa4df556-d4ee-43e8-be36-19886ec54358",
   "metadata": {},
   "source": [
    "EXERCICIO I - SAA0205\n",
    "\n",
    "Nome: Alessandro Melo de Oliveira\n",
    "\n",
    "NºUSP: 10788662"
   ]
  },
  {
   "cell_type": "markdown",
   "id": "854cfc37-abd6-4902-b033-12e2067fedc6",
   "metadata": {},
   "source": [
    "# EXERCÍCIO II"
   ]
  },
  {
   "cell_type": "code",
   "execution_count": 156,
   "id": "e220fad7-4fcf-423a-89cf-494e57de9a59",
   "metadata": {},
   "outputs": [],
   "source": [
    "import sympy as sp\n",
    "from sympy import pi"
   ]
  },
  {
   "cell_type": "code",
   "execution_count": 157,
   "id": "04e41292-cd3b-4ee4-b339-21358bdb0125",
   "metadata": {},
   "outputs": [],
   "source": [
    "m,n = sp.symbols('m n')"
   ]
  },
  {
   "cell_type": "code",
   "execution_count": 158,
   "id": "5066eb82-1558-4205-b1ba-3bffa95d94f7",
   "metadata": {},
   "outputs": [],
   "source": [
    "h = 0.29/1000"
   ]
  },
  {
   "cell_type": "code",
   "execution_count": 159,
   "id": "2e609ea3-1db8-459c-a2f9-af21859f47fa",
   "metadata": {},
   "outputs": [],
   "source": [
    "h0 = -6*h\n",
    "h1 = -5*h\n",
    "h2 = -4*h\n",
    "h3 = -3*h\n",
    "h4 = -2*h\n",
    "h5 = -h\n",
    "h6 = 0\n",
    "h7 = h\n",
    "h8 = 2*h\n",
    "h9 = 3*h\n",
    "h10 = 4*h\n",
    "h11 = 5*h\n",
    "h12 = 6*h"
   ]
  },
  {
   "cell_type": "code",
   "execution_count": 160,
   "id": "ad730324-b7b3-4dc7-bad2-a2c44ef9b2f9",
   "metadata": {},
   "outputs": [],
   "source": [
    "# Gpa\n",
    "E11 = 77*1e9\n",
    "E22 = 75*1e9\n",
    "v12 = 0.06\n",
    "G12 = 6.50*1e9\n",
    "\n",
    "NUSP = 10788662\n",
    "N = sp.Matrix([1000*1000e-7 * NUSP,0,0])"
   ]
  },
  {
   "cell_type": "code",
   "execution_count": 161,
   "id": "8eaddfd4-8812-4b59-ada8-fe1911f53114",
   "metadata": {},
   "outputs": [
    {
     "data": {
      "text/latex": [
       "$\\displaystyle \\left[\\begin{matrix}1078866.2\\\\0\\\\0\\end{matrix}\\right]$"
      ],
      "text/plain": [
       "Matrix([\n",
       "[1078866.2],\n",
       "[        0],\n",
       "[        0]])"
      ]
     },
     "execution_count": 161,
     "metadata": {},
     "output_type": "execute_result"
    }
   ],
   "source": [
    "N"
   ]
  },
  {
   "cell_type": "code",
   "execution_count": 162,
   "id": "9890ed75-0cae-4b93-be54-e6e710362257",
   "metadata": {},
   "outputs": [],
   "source": [
    "Q11_value = (E11**2)/(E11-v12**2 * E22)\n",
    "Q21_value =  (v12*E11*E22)/(E11-v12**2 * E22)\n",
    "Q22_value = (E11*E22)/(E11-v12**2 * E22)\n",
    "Q66_value = G12"
   ]
  },
  {
   "cell_type": "code",
   "execution_count": 163,
   "id": "98c67d7d-7983-436e-8ce9-8f79b5729562",
   "metadata": {},
   "outputs": [],
   "source": [
    "Q = sp.zeros(3,3)"
   ]
  },
  {
   "cell_type": "code",
   "execution_count": 164,
   "id": "a338ab43-2fce-4794-bf64-96455d1c7985",
   "metadata": {},
   "outputs": [],
   "source": [
    "Q[0,0] = Q11_value\n",
    "Q[0,1] = Q21_value\n",
    "Q[0,2] = 0\n",
    "Q[1,0] = Q21_value\n",
    "Q[1,1] = Q22_value\n",
    "Q[1,2] = 0\n",
    "Q[2,0] = 0\n",
    "Q[2,1] = 0\n",
    "Q[2,2] = Q66_value"
   ]
  },
  {
   "cell_type": "code",
   "execution_count": 165,
   "id": "3f9b65b4-a59e-41e7-8c9a-9ce6bf02fcd4",
   "metadata": {},
   "outputs": [
    {
     "data": {
      "text/latex": [
       "$\\displaystyle \\left[\\begin{matrix}77.2709500847126 & 4.51583474521048 & 0\\\\4.51583474521048 & 75.2639124201746 & 0\\\\0 & 0 & 6.5\\end{matrix}\\right]$"
      ],
      "text/plain": [
       "Matrix([\n",
       "[77.2709500847126, 4.51583474521048,   0],\n",
       "[4.51583474521048, 75.2639124201746,   0],\n",
       "[               0,                0, 6.5]])"
      ]
     },
     "execution_count": 165,
     "metadata": {},
     "output_type": "execute_result"
    }
   ],
   "source": [
    "Q/1e9"
   ]
  },
  {
   "cell_type": "code",
   "execution_count": 166,
   "id": "cf7e9087-350e-49be-9a78-e1ab5cd2077a",
   "metadata": {},
   "outputs": [],
   "source": [
    "Q11, Q12, Q16, Q22, Q26, Q16, Q66 = sp.symbols('Q11 Q12 Q16 Q22 Q26 Q16 Q66')"
   ]
  },
  {
   "cell_type": "code",
   "execution_count": 167,
   "id": "31982803-b464-4ee7-8bb4-8e8bab6ed6c3",
   "metadata": {},
   "outputs": [],
   "source": [
    "Q_barra = sp.zeros(3,3)"
   ]
  },
  {
   "cell_type": "code",
   "execution_count": 168,
   "id": "438708d7-f505-42af-829b-c5432d6e7c85",
   "metadata": {},
   "outputs": [],
   "source": [
    "Q_barra[0,0] =  Q11*m**4 + 2*m**2 * n**2 * (Q12 + 2*Q66) + Q22*n**4\n",
    "Q_barra[0,1] = (Q11 + Q22 - 4*Q66)*n**2 * m**2 + Q12*(n**4 + m**4)\n",
    "Q_barra[0,2] = (Q11 - Q12)*n*(m**3) + (Q12 - Q22)*(n**3)*m - 2*m*n*(m**2 - n**2)*Q66\n",
    "Q_barra[1,0] = (Q11 + Q22 - 4*Q66)*n**2 * m**2 + Q12*(n**4 + m**4)\n",
    "Q_barra[1,1] = Q11*n**4 + 2*(Q12 + 2*Q66)*n**2 * m**2 + Q22*m**4\n",
    "Q_barra[1,2] = (Q11 - Q12)*n**3*m + (Q12 - Q22)*n*m**3 + 2*m*n*(m**2 - n**2)*Q66\n",
    "Q_barra[2,0] = (Q11 - Q12)*n*m**3 + (Q12 - Q22)*n**3*m - 2*m*n*(m**2 - n**2)*Q66\n",
    "Q_barra[2,1] = (Q11 - Q12)*(n**3)*m + (Q12 - Q22)*n*(m**3) + 2*m*n*(m**2 - n**2)*Q66\n",
    "Q_barra[2,2] = (Q11 + Q22 - 2*Q12 - 2*Q66)*n**2 * m**2 + Q66*(n**4 + m**4)"
   ]
  },
  {
   "cell_type": "code",
   "execution_count": 169,
   "id": "455ac549-a529-47e3-8b0e-41cbd82e98d6",
   "metadata": {},
   "outputs": [],
   "source": [
    "# Lâminas com theta = 0\n",
    "Q_barra_0 = Q_barra.subs({\n",
    "    m:sp.cos(0),\n",
    "    n:sp.sin(0)\n",
    "})\n",
    "\n",
    "Q_barra_0 = Q_barra_0.subs({\n",
    "    Q11 :Q11_value,\n",
    "    Q12 : Q21_value,\n",
    "    Q66 : Q66_value,\n",
    "    Q22 : Q22_value\n",
    "})"
   ]
  },
  {
   "cell_type": "code",
   "execution_count": 170,
   "id": "4f34a9b0-715e-4e7d-bf8b-d419c1df7665",
   "metadata": {},
   "outputs": [
    {
     "data": {
      "text/latex": [
       "$\\displaystyle \\left[\\begin{matrix}77.2709500847126 & 4.51583474521048 & 0\\\\4.51583474521048 & 75.2639124201746 & 0\\\\0 & 0 & 6.5\\end{matrix}\\right]$"
      ],
      "text/plain": [
       "Matrix([\n",
       "[77.2709500847126, 4.51583474521048,   0],\n",
       "[4.51583474521048, 75.2639124201746,   0],\n",
       "[               0,                0, 6.5]])"
      ]
     },
     "execution_count": 170,
     "metadata": {},
     "output_type": "execute_result"
    }
   ],
   "source": [
    "Q_barra_0/1e9"
   ]
  },
  {
   "cell_type": "code",
   "execution_count": 171,
   "id": "20845ed2-6883-42fa-82d4-6eb5a9644e1a",
   "metadata": {},
   "outputs": [],
   "source": [
    "# Lâminas com theta = pi/4\n",
    "Q_barra_45 = Q_barra.subs({\n",
    "    m:sp.cos(pi/4),\n",
    "    n:sp.sin(pi/4)\n",
    "})\n",
    "\n",
    "Q_barra_45 = Q_barra_45.subs({\n",
    "    Q11 :Q11_value,\n",
    "    Q12 : Q21_value,\n",
    "    Q66 : Q66_value,\n",
    "    Q22 : Q22_value\n",
    "})"
   ]
  },
  {
   "cell_type": "code",
   "execution_count": 172,
   "id": "7328d995-fe27-49b6-89db-1992c98a0a97",
   "metadata": {},
   "outputs": [
    {
     "data": {
      "text/latex": [
       "$\\displaystyle \\left[\\begin{matrix}46.8916329988271 & 33.8916329988271 & 0.501759416134499\\\\33.8916329988271 & 46.8916329988271 & 0.501759416134499\\\\0.501759416134499 & 0.501759416134499 & 35.8757982536166\\end{matrix}\\right]$"
      ],
      "text/plain": [
       "Matrix([\n",
       "[ 46.8916329988271,  33.8916329988271, 0.501759416134499],\n",
       "[ 33.8916329988271,  46.8916329988271, 0.501759416134499],\n",
       "[0.501759416134499, 0.501759416134499,  35.8757982536166]])"
      ]
     },
     "execution_count": 172,
     "metadata": {},
     "output_type": "execute_result"
    }
   ],
   "source": [
    "Q_barra_45/1e9"
   ]
  },
  {
   "cell_type": "code",
   "execution_count": 173,
   "id": "24fdf251-911b-4d02-919f-11ac55eb8160",
   "metadata": {},
   "outputs": [],
   "source": [
    "Q0 = Q_barra_0\n",
    "Q45 = Q_barra_45"
   ]
  },
  {
   "cell_type": "code",
   "execution_count": 174,
   "id": "4d672e7b-4f5a-4fb7-8d20-e10d5fc905cc",
   "metadata": {},
   "outputs": [],
   "source": [
    "Q_barra_list = [Q_barra_0, Q_barra_45]\n",
    "A = sp.zeros(3)\n",
    "B = sp.zeros(3)\n",
    "D = sp.zeros(3)"
   ]
  },
  {
   "cell_type": "code",
   "execution_count": 175,
   "id": "04f8c71c-876e-4d52-8dda-627bf690c59b",
   "metadata": {},
   "outputs": [],
   "source": [
    "A = Q0*(h1-h0) + Q45*(h2-h1) + Q0*(h3-h2) + Q45*(h4-h3) + Q0*(h5-h4) + Q45*(h6-h5) + Q45*(h7-h6) + Q0*(h8-h7) + Q45*(h9-h8) + Q0*(h10-h9) + Q45*(h11-h10) + Q0*(h12-h11) "
   ]
  },
  {
   "cell_type": "code",
   "execution_count": 176,
   "id": "0f45d6c2-efcd-4e6e-9bca-3be48f2caa4e",
   "metadata": {},
   "outputs": [
    {
     "data": {
      "text/latex": [
       "$\\displaystyle \\left[\\begin{matrix}216.042894565359 & 66.8289938746253 & 0.873061384074027\\\\66.8289938746253 & 212.550649029063 & 0.873061384074027\\\\0.873061384074027 & 0.873061384074027 & 73.7338889612928\\end{matrix}\\right]$"
      ],
      "text/plain": [
       "Matrix([\n",
       "[ 216.042894565359,  66.8289938746253, 0.873061384074027],\n",
       "[ 66.8289938746253,  212.550649029063, 0.873061384074027],\n",
       "[0.873061384074027, 0.873061384074027,  73.7338889612928]])"
      ]
     },
     "execution_count": 176,
     "metadata": {},
     "output_type": "execute_result"
    }
   ],
   "source": [
    "A/1e6"
   ]
  },
  {
   "cell_type": "code",
   "execution_count": 177,
   "id": "25ed4218-ed4c-4e19-803d-c5fe1663f067",
   "metadata": {},
   "outputs": [],
   "source": [
    "B = (Q0*(h1**2-h0**2) + Q45*(h2**2-h1**2) + Q0*(h3**2-h2**2) + Q45*(h4**2-h3**2) + Q0*(h5**2-h4**2) + Q45*(h6**2-h5**2) + Q45*(h7**2-h6**2) + Q0*(h8**2-h7**2) + Q45*(h9**2-h8**2) + Q0*(h10**2-h9**2) + Q45*(h11**2-h10**2) + Q0*(h12**2-h11**2))/2\n",
    "B = sp.zeros(3)"
   ]
  },
  {
   "cell_type": "code",
   "execution_count": 178,
   "id": "77b3117a-9dd5-4bed-9df7-5c8c7dbabd75",
   "metadata": {},
   "outputs": [
    {
     "data": {
      "text/latex": [
       "$\\displaystyle \\left[\\begin{matrix}0 & 0 & 0\\\\0 & 0 & 0\\\\0 & 0 & 0\\end{matrix}\\right]$"
      ],
      "text/plain": [
       "Matrix([\n",
       "[0, 0, 0],\n",
       "[0, 0, 0],\n",
       "[0, 0, 0]])"
      ]
     },
     "execution_count": 178,
     "metadata": {},
     "output_type": "execute_result"
    }
   ],
   "source": [
    "B"
   ]
  },
  {
   "cell_type": "code",
   "execution_count": 179,
   "id": "9c17eb72-3ce8-4feb-a16a-e63d2da030b4",
   "metadata": {},
   "outputs": [],
   "source": [
    "D = (Q0*(h1**3-h0**3) + Q45*(h2**3-h1**3) + Q0*(h3**3-h2**3) + Q45*(h4**3-h3**3) + Q0*(h5**3-h4**3) + Q45*(h6**3-h5**3) + Q45*(h7**3-h6**3) + Q0*(h8**3-h7**3) + Q45*(h9**3-h8**3) + Q0*(h10**3-h9**3) + Q45*(h11**3-h10**3) + Q0*(h12**3-h11**3))/3 "
   ]
  },
  {
   "cell_type": "code",
   "execution_count": 180,
   "id": "fe9b78f9-4e19-4f46-9fa6-e9945dc71f96",
   "metadata": {},
   "outputs": [
    {
     "data": {
      "text/latex": [
       "$\\displaystyle \\left[\\begin{matrix}231.367070154698 & 54.5477864333377 & 0.660820161605631\\\\54.5477864333377 & 226.961602410661 & 0.660820161605631\\\\0.660820161605631 & 0.660820161605631 & 61.5162065548026\\end{matrix}\\right]$"
      ],
      "text/plain": [
       "Matrix([\n",
       "[ 231.367070154698,  54.5477864333377, 0.660820161605631],\n",
       "[ 54.5477864333377,  226.961602410661, 0.660820161605631],\n",
       "[0.660820161605631, 0.660820161605631,  61.5162065548026]])"
      ]
     },
     "execution_count": 180,
     "metadata": {},
     "output_type": "execute_result"
    }
   ],
   "source": [
    "D"
   ]
  },
  {
   "cell_type": "code",
   "execution_count": 181,
   "id": "38b61f52-8692-4d31-80eb-3f731cc9ed07",
   "metadata": {},
   "outputs": [],
   "source": [
    "A_ast= A**-1\n",
    "B_ast= -(A**-1 * B)\n",
    "C_ast= B*(A**-1)\n",
    "D_ast= D - B*(A**-1)*B"
   ]
  },
  {
   "cell_type": "code",
   "execution_count": 199,
   "id": "c5c343e8-f117-44e0-beaa-ac41fc6912a0",
   "metadata": {},
   "outputs": [
    {
     "data": {
      "text/latex": [
       "$\\displaystyle \\left[\\begin{matrix}5.12752055235464 & -1.61199553533966 & -0.041626302102595\\\\-1.61199553533966 & 5.21177073833692 & -0.0426238838796908\\\\-0.041626302102595 & -0.0426238838796907 & 13.5632823613709\\end{matrix}\\right]$"
      ],
      "text/plain": [
       "Matrix([\n",
       "[  5.12752055235464,   -1.61199553533966,  -0.041626302102595],\n",
       "[ -1.61199553533966,    5.21177073833692, -0.0426238838796908],\n",
       "[-0.041626302102595, -0.0426238838796907,    13.5632823613709]])"
      ]
     },
     "execution_count": 199,
     "metadata": {},
     "output_type": "execute_result"
    }
   ],
   "source": [
    "A_ast*1e9"
   ]
  },
  {
   "cell_type": "code",
   "execution_count": 198,
   "id": "bf270ed5-04b1-42ed-b21d-d0efb62c0a63",
   "metadata": {},
   "outputs": [
    {
     "data": {
      "text/latex": [
       "$\\displaystyle \\left[\\begin{matrix}231.367070154698 & 54.5477864333377 & 0.660820161605631\\\\54.5477864333377 & 226.961602410661 & 0.660820161605631\\\\0.660820161605631 & 0.660820161605631 & 61.5162065548026\\end{matrix}\\right]$"
      ],
      "text/plain": [
       "Matrix([\n",
       "[ 231.367070154698,  54.5477864333377, 0.660820161605631],\n",
       "[ 54.5477864333377,  226.961602410661, 0.660820161605631],\n",
       "[0.660820161605631, 0.660820161605631,  61.5162065548026]])"
      ]
     },
     "execution_count": 198,
     "metadata": {},
     "output_type": "execute_result"
    }
   ],
   "source": [
    "D_ast"
   ]
  },
  {
   "cell_type": "code",
   "execution_count": 182,
   "id": "12b104b9-e61c-49a1-93bb-fb84626ab846",
   "metadata": {},
   "outputs": [],
   "source": [
    "A_linha = A_ast + (B_ast)*(D_ast**-1)*B_ast.T\n",
    "B_linha = B_ast*D**-1\n",
    "C_linha = B_linha\n",
    "D_linha = D_ast**-1"
   ]
  },
  {
   "cell_type": "code",
   "execution_count": 183,
   "id": "8d47a19e-46ee-48c7-9e16-fbd02d679115",
   "metadata": {},
   "outputs": [
    {
     "data": {
      "text/latex": [
       "$\\displaystyle \\left[\\begin{matrix}5.12752055235464 & -1.61199553533966 & -0.041626302102595\\\\-1.61199553533966 & 5.21177073833692 & -0.0426238838796908\\\\-0.041626302102595 & -0.0426238838796907 & 13.5632823613709\\end{matrix}\\right]$"
      ],
      "text/plain": [
       "Matrix([\n",
       "[  5.12752055235464,   -1.61199553533966,  -0.041626302102595],\n",
       "[ -1.61199553533966,    5.21177073833692, -0.0426238838796908],\n",
       "[-0.041626302102595, -0.0426238838796907,    13.5632823613709]])"
      ]
     },
     "execution_count": 183,
     "metadata": {},
     "output_type": "execute_result"
    }
   ],
   "source": [
    "A_linha*1e9"
   ]
  },
  {
   "cell_type": "code",
   "execution_count": 184,
   "id": "4fac4985-5626-4309-adba-5273380bc990",
   "metadata": {},
   "outputs": [
    {
     "data": {
      "text/latex": [
       "$\\displaystyle \\left[\\begin{matrix}4.58183854671511 & -1.10108687616938 & -0.0373909740255193\\\\-1.10108687616938 & 4.67077770233134 & -0.0383463773326953\\\\-0.0373909740255193 & -0.0383463773326953 & 16.2566924193847\\end{matrix}\\right]$"
      ],
      "text/plain": [
       "Matrix([\n",
       "[   4.58183854671511,   -1.10108687616938, -0.0373909740255193],\n",
       "[  -1.10108687616938,    4.67077770233134, -0.0383463773326953],\n",
       "[-0.0373909740255193, -0.0383463773326953,    16.2566924193847]])"
      ]
     },
     "execution_count": 184,
     "metadata": {},
     "output_type": "execute_result"
    }
   ],
   "source": [
    "D_linha*1e3"
   ]
  },
  {
   "cell_type": "code",
   "execution_count": 185,
   "id": "2dc65909-57cc-4a04-acd1-d14a8bc3a765",
   "metadata": {},
   "outputs": [],
   "source": [
    "episilon0 = A_linha*N\n",
    "sigma_0 = Q0*episilon0\n",
    "sigma_45 = Q45*episilon0"
   ]
  },
  {
   "cell_type": "code",
   "execution_count": 186,
   "id": "bd4a04c1-fc98-4e92-97f1-a48f7c56686d",
   "metadata": {},
   "outputs": [
    {
     "data": {
      "text/latex": [
       "$\\displaystyle \\left[\\begin{matrix}200435823.991601\\\\105912354.543797\\\\291909.867401612\\end{matrix}\\right]$"
      ],
      "text/plain": [
       "Matrix([\n",
       "[200435823.991601],\n",
       "[105912354.543797],\n",
       "[291909.867401612]])"
      ]
     },
     "execution_count": 186,
     "metadata": {},
     "output_type": "execute_result"
    }
   ],
   "source": [
    "sigma_45"
   ]
  },
  {
   "cell_type": "code",
   "execution_count": 187,
   "id": "6c28c6b5-9110-41a9-9113-5bf6337e6e08",
   "metadata": {},
   "outputs": [
    {
     "data": {
      "text/latex": [
       "$\\displaystyle \\left[\\begin{matrix}5.53190861374075\\\\-1.73912749762886\\\\-0.0449092103694787\\end{matrix}\\right]$"
      ],
      "text/plain": [
       "Matrix([\n",
       "[   5.53190861374075],\n",
       "[  -1.73912749762886],\n",
       "[-0.0449092103694787]])"
      ]
     },
     "execution_count": 187,
     "metadata": {},
     "output_type": "execute_result"
    }
   ],
   "source": [
    "episilon0*1000"
   ]
  },
  {
   "cell_type": "code",
   "execution_count": 188,
   "id": "20e26927-890d-4231-b583-b1334586ac78",
   "metadata": {},
   "outputs": [],
   "source": [
    "T = sp.zeros(3)\n",
    "T[0,0] = m**2 \n",
    "T[0,1] = n**2\n",
    "T[0,2] = 2*m*n\n",
    "T[1,0] = n**2\n",
    "T[1,1] = m**2\n",
    "T[1,2] = -2*m*n\n",
    "T[2,0] = -m*n\n",
    "T[2,1] = m*n\n",
    "T[2,2] = (m**2 - n**2)"
   ]
  },
  {
   "cell_type": "code",
   "execution_count": 189,
   "id": "b8251ecc-3c9e-405e-95d3-7572ba07d621",
   "metadata": {},
   "outputs": [],
   "source": [
    "T_45 = T.subs({\n",
    "    m:sp.cos(pi/4),\n",
    "    n:sp.sin(pi/4)\n",
    "})\n",
    "\n",
    "T_0 = T.subs({\n",
    "    m:sp.cos(0),\n",
    "    n:sp.sin(0)\n",
    "})"
   ]
  },
  {
   "cell_type": "code",
   "execution_count": 190,
   "id": "87f43cd9-eb35-41b4-9793-c9b0d8531a93",
   "metadata": {},
   "outputs": [],
   "source": [
    "episilon_0_local = T_0*episilon0\n",
    "episilon_45_local = T_45*episilon0\n",
    "\n",
    "sigma_0_local = T_0*sigma_0\n",
    "sigma_45_local = T_45*sigma_45"
   ]
  },
  {
   "cell_type": "code",
   "execution_count": 191,
   "id": "3ab5262c-db92-475d-8b00-8c775987dc8a",
   "metadata": {},
   "outputs": [
    {
     "data": {
      "text/latex": [
       "$\\displaystyle \\left[\\begin{matrix}419602221.98541\\\\-105912354.543796\\\\-291909.867401611\\end{matrix}\\right]$"
      ],
      "text/plain": [
       "Matrix([\n",
       "[  419602221.98541],\n",
       "[-105912354.543796],\n",
       "[-291909.867401611]])"
      ]
     },
     "execution_count": 191,
     "metadata": {},
     "output_type": "execute_result"
    }
   ],
   "source": [
    "sigma_0_local"
   ]
  },
  {
   "cell_type": "code",
   "execution_count": 192,
   "id": "4a5a6956-207a-46df-a630-b8150745d8ff",
   "metadata": {},
   "outputs": [],
   "source": [
    "## TSAR-WU"
   ]
  },
  {
   "cell_type": "code",
   "execution_count": 193,
   "id": "cb4e486a-72f6-464b-9275-361dca9b2df6",
   "metadata": {},
   "outputs": [],
   "source": [
    "XT = 963*1e6\n",
    "YT = 900*1e6\n",
    "XC = -856*1e6\n",
    "YC = -900*1e6\n",
    "S12 = 71*1e6"
   ]
  },
  {
   "cell_type": "code",
   "execution_count": 194,
   "id": "522dd48e-e11b-400b-bb99-988d67b8c9e7",
   "metadata": {},
   "outputs": [],
   "source": [
    "def tsar_wu(XT, XC, YC, YT, S12, sigma_local):\n",
    "    F1 = 1/XT + 1/XC\n",
    "    F11 = -1/(XT*XC)\n",
    "    F2 = 1/YT + 1/YC\n",
    "    F22 = -1/(YT*YC)\n",
    "    F66 = (1/S12)**2\n",
    "    F12 = -0.5*sp.sqrt(F11*F22)\n",
    "\n",
    "    A = F11*sigma_local[0]**2 + F22*sigma_local[1]**2 + F66*sigma_local[2]**2 + 2*F12*sigma_local[0]*sigma_local[1]\n",
    "    B = F1*sigma_local[0] + F2*sigma_local[1]\n",
    "\n",
    "    Sf_mais = (-B + sp.sqrt(B**2 + 4*A))/(2*A)\n",
    "    Sf_menos = (-B - sp.sqrt(B**2 + 4*A))/(2*A)\n",
    "    \n",
    "    MS = Sf_mais - 1\n",
    "    \n",
    "    print(\"F1: {}\".format(F1))\n",
    "    print(\"F11: {}\".format(F11))\n",
    "    print(\"F2: {}\".format(F2))\n",
    "    print(\"F22: {}\".format(F22))\n",
    "    print(\"F66: {}\".format(F66))\n",
    "    print(\"F12: {}\".format(F12))\n",
    "    print('----------------------')\n",
    "    \n",
    "    \n",
    "    \n",
    "    print(\"A: {}\".format(A))\n",
    "    print(\"B: {}\".format(B))\n",
    "    print('----------------------')\n",
    "    \n",
    "    print(\"Sf+: {}\".format(Sf_mais))\n",
    "    print(\"Sf-: {}\".format(Sf_menos))\n",
    "\n",
    "    print(\"MS: {}\".format(MS))\n",
    "    "
   ]
  },
  {
   "cell_type": "code",
   "execution_count": 195,
   "id": "edc37e09-672c-43d7-841c-92152e0a1c5f",
   "metadata": {},
   "outputs": [
    {
     "name": "stdout",
     "output_type": "stream",
     "text": [
      "F1: -1.2980269989615796e-10\n",
      "F11: 1.213109344823905e-18\n",
      "F2: 0.0\n",
      "F22: 1.2345679012345679e-18\n",
      "F66: 1.9837333862328902e-16\n",
      "F12: -6.11895795419304E-19\n",
      "----------------------\n",
      "A: 0.281839513307098\n",
      "B: -0.0544655012961332\n",
      "----------------------\n",
      "Sf+: 1.98274669009512\n",
      "Sf-: -1.78949663563314\n",
      "MS: 0.982746690095116\n"
     ]
    }
   ],
   "source": [
    "tsar_wu(XT, XC, YC, YT, S12, sigma_0_local)"
   ]
  },
  {
   "cell_type": "code",
   "execution_count": 196,
   "id": "3118033c-d849-44fb-9189-b24a825b3c8e",
   "metadata": {},
   "outputs": [
    {
     "name": "stdout",
     "output_type": "stream",
     "text": [
      "F1: -1.2980269989615796e-10\n",
      "F11: 1.213109344823905e-18\n",
      "F2: 0.0\n",
      "F22: 1.2345679012345679e-18\n",
      "F66: 1.9837333862328902e-16\n",
      "F12: -6.11895795419304E-19\n",
      "----------------------\n",
      "A: 0.471814454844412\n",
      "B: -0.0199203010299975\n",
      "----------------------\n",
      "Sf+: 1.47710580972705\n",
      "Sf-: -1.43488518501862\n",
      "MS: 0.477105809727048\n"
     ]
    }
   ],
   "source": [
    "tsar_wu(XT, XC, YC, YT, S12, sigma_45_local)"
   ]
  }
 ],
 "metadata": {
  "kernelspec": {
   "display_name": "Python 3",
   "language": "python",
   "name": "python3"
  },
  "language_info": {
   "codemirror_mode": {
    "name": "ipython",
    "version": 3
   },
   "file_extension": ".py",
   "mimetype": "text/x-python",
   "name": "python",
   "nbconvert_exporter": "python",
   "pygments_lexer": "ipython3",
   "version": "3.8.11"
  }
 },
 "nbformat": 4,
 "nbformat_minor": 5
}
