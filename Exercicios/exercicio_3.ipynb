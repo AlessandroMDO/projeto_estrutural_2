{
 "cells": [
  {
   "cell_type": "markdown",
   "id": "fa4df556-d4ee-43e8-be36-19886ec54358",
   "metadata": {},
   "source": [
    "Nome: Alessandro Melo de Oliveira\n",
    "\n",
    "NºUSP: 10788662"
   ]
  },
  {
   "cell_type": "markdown",
   "id": "854cfc37-abd6-4902-b033-12e2067fedc6",
   "metadata": {},
   "source": [
    "# EXERCÍCIO III"
   ]
  },
  {
   "cell_type": "code",
   "execution_count": 264,
   "id": "e220fad7-4fcf-423a-89cf-494e57de9a59",
   "metadata": {},
   "outputs": [],
   "source": [
    "import sympy as sp\n",
    "from sympy import pi"
   ]
  },
  {
   "cell_type": "code",
   "execution_count": 265,
   "id": "04e41292-cd3b-4ee4-b339-21358bdb0125",
   "metadata": {},
   "outputs": [],
   "source": [
    "m,n = sp.symbols('m n')"
   ]
  },
  {
   "cell_type": "markdown",
   "id": "773068d6-b40d-4656-bce5-2daf1a615e49",
   "metadata": {},
   "source": [
    "[0/45/90/0/45/90]"
   ]
  },
  {
   "cell_type": "code",
   "execution_count": 266,
   "id": "5066eb82-1558-4205-b1ba-3bffa95d94f7",
   "metadata": {},
   "outputs": [],
   "source": [
    "h = 0.3/1000 # [mm]"
   ]
  },
  {
   "cell_type": "code",
   "execution_count": 267,
   "id": "2e609ea3-1db8-459c-a2f9-af21859f47fa",
   "metadata": {},
   "outputs": [],
   "source": [
    "h0 = -3*h\n",
    "h1 = -2*h\n",
    "h2 = -h\n",
    "h3 = 0\n",
    "h4 = h\n",
    "h5 = 2*h\n",
    "h6 = 3*h"
   ]
  },
  {
   "cell_type": "code",
   "execution_count": 268,
   "id": "ad730324-b7b3-4dc7-bad2-a2c44ef9b2f9",
   "metadata": {},
   "outputs": [],
   "source": [
    "# Mpa\n",
    "E11 = 155000*1e6 \n",
    "E22 = 12100*1e6\n",
    "v12 = 0.35\n",
    "G12 = 4400*1e6 \n",
    "\n",
    "N = sp.Matrix([1000*100,0,0]) # [N/mm]"
   ]
  },
  {
   "cell_type": "code",
   "execution_count": 269,
   "id": "9890ed75-0cae-4b93-be54-e6e710362257",
   "metadata": {},
   "outputs": [],
   "source": [
    "Q11_value = (E11**2)/(E11-v12**2 * E22)\n",
    "Q21_value =  (v12*E11*E22)/(E11-v12**2 * E22)\n",
    "Q22_value = (E11*E22)/(E11-v12**2 * E22)\n",
    "Q66_value = G12"
   ]
  },
  {
   "cell_type": "code",
   "execution_count": 270,
   "id": "98c67d7d-7983-436e-8ce9-8f79b5729562",
   "metadata": {},
   "outputs": [],
   "source": [
    "Q = sp.zeros(3,3)"
   ]
  },
  {
   "cell_type": "code",
   "execution_count": 271,
   "id": "a338ab43-2fce-4794-bf64-96455d1c7985",
   "metadata": {},
   "outputs": [],
   "source": [
    "Q[0,0] = Q11_value\n",
    "Q[0,1] = Q21_value\n",
    "Q[0,2] = 0\n",
    "Q[1,0] = Q21_value\n",
    "Q[1,1] = Q22_value\n",
    "Q[1,2] = 0\n",
    "Q[2,0] = 0\n",
    "Q[2,1] = 0\n",
    "Q[2,2] = Q66_value"
   ]
  },
  {
   "cell_type": "code",
   "execution_count": 272,
   "id": "3f9b65b4-a59e-41e7-8c9a-9ce6bf02fcd4",
   "metadata": {},
   "outputs": [
    {
     "data": {
      "text/latex": [
       "$\\displaystyle \\left[\\begin{matrix}156.496561472533 & 4.27588992152373 & 0\\\\4.27588992152373 & 12.2168283472107 & 0\\\\0 & 0 & 4.4\\end{matrix}\\right]$"
      ],
      "text/plain": [
       "Matrix([\n",
       "[156.496561472533, 4.27588992152373,   0],\n",
       "[4.27588992152373, 12.2168283472107,   0],\n",
       "[               0,                0, 4.4]])"
      ]
     },
     "execution_count": 272,
     "metadata": {},
     "output_type": "execute_result"
    }
   ],
   "source": [
    "Q/1e9"
   ]
  },
  {
   "cell_type": "code",
   "execution_count": 273,
   "id": "cf7e9087-350e-49be-9a78-e1ab5cd2077a",
   "metadata": {},
   "outputs": [],
   "source": [
    "Q11, Q12, Q16, Q22, Q26, Q16, Q66 = sp.symbols('Q11 Q12 Q16 Q22 Q26 Q16 Q66')"
   ]
  },
  {
   "cell_type": "code",
   "execution_count": 274,
   "id": "31982803-b464-4ee7-8bb4-8e8bab6ed6c3",
   "metadata": {},
   "outputs": [],
   "source": [
    "Q_barra = sp.zeros(3,3)"
   ]
  },
  {
   "cell_type": "code",
   "execution_count": 275,
   "id": "438708d7-f505-42af-829b-c5432d6e7c85",
   "metadata": {},
   "outputs": [],
   "source": [
    "Q_barra[0,0] =  Q11*m**4 + 2*m**2 * n**2 * (Q12 + 2*Q66) + Q22*n**4\n",
    "Q_barra[0,1] = (Q11 + Q22 - 4*Q66)*n**2 * m**2 + Q12*(n**4 + m**4)\n",
    "Q_barra[0,2] = (Q11 - Q12)*n*(m**3) + (Q12 - Q22)*(n**3)*m - 2*m*n*(m**2 - n**2)*Q66\n",
    "Q_barra[1,0] = (Q11 + Q22 - 4*Q66)*n**2 * m**2 + Q12*(n**4 + m**4)\n",
    "Q_barra[1,1] = Q11*n**4 + 2*(Q12 + 2*Q66)*n**2 * m**2 + Q22*m**4\n",
    "Q_barra[1,2] = (Q11 - Q12)*n**3*m + (Q12 - Q22)*n*m**3 + 2*m*n*(m**2 - n**2)*Q66\n",
    "Q_barra[2,0] = (Q11 - Q12)*n*m**3 + (Q12 - Q22)*n**3*m - 2*m*n*(m**2 - n**2)*Q66\n",
    "Q_barra[2,1] = (Q11 - Q12)*(n**3)*m + (Q12 - Q22)*n*(m**3) + 2*m*n*(m**2 - n**2)*Q66\n",
    "Q_barra[2,2] = (Q11 + Q22 - 2*Q12 - 2*Q66)*n**2 * m**2 + Q66*(n**4 + m**4)"
   ]
  },
  {
   "cell_type": "code",
   "execution_count": 276,
   "id": "455ac549-a529-47e3-8b0e-41cbd82e98d6",
   "metadata": {},
   "outputs": [],
   "source": [
    "# Lâminas com theta = 0\n",
    "Q_barra_0 = Q_barra.subs({\n",
    "    m:sp.cos(0),\n",
    "    n:sp.sin(0)\n",
    "})\n",
    "\n",
    "Q_barra_0 = Q_barra_0.subs({\n",
    "    Q11 :Q11_value,\n",
    "    Q12 : Q21_value,\n",
    "    Q66 : Q66_value,\n",
    "    Q22 : Q22_value\n",
    "})"
   ]
  },
  {
   "cell_type": "code",
   "execution_count": 277,
   "id": "4f34a9b0-715e-4e7d-bf8b-d419c1df7665",
   "metadata": {},
   "outputs": [
    {
     "data": {
      "text/latex": [
       "$\\displaystyle \\left[\\begin{matrix}156.496561472533 & 4.27588992152373 & 0\\\\4.27588992152373 & 12.2168283472107 & 0\\\\0 & 0 & 4.4\\end{matrix}\\right]$"
      ],
      "text/plain": [
       "Matrix([\n",
       "[156.496561472533, 4.27588992152373,   0],\n",
       "[4.27588992152373, 12.2168283472107,   0],\n",
       "[               0,                0, 4.4]])"
      ]
     },
     "execution_count": 277,
     "metadata": {},
     "output_type": "execute_result"
    }
   ],
   "source": [
    "Q_barra_0/1e9"
   ]
  },
  {
   "cell_type": "code",
   "execution_count": 278,
   "id": "20845ed2-6883-42fa-82d4-6eb5a9644e1a",
   "metadata": {},
   "outputs": [],
   "source": [
    "# Lâminas com theta = pi/4\n",
    "Q_barra_45 = Q_barra.subs({\n",
    "    m:sp.cos(pi/4),\n",
    "    n:sp.sin(pi/4)\n",
    "})\n",
    "\n",
    "Q_barra_45 = Q_barra_45.subs({\n",
    "    Q11 :Q11_value,\n",
    "    Q12 : Q21_value,\n",
    "    Q66 : Q66_value,\n",
    "    Q22 : Q22_value\n",
    "})"
   ]
  },
  {
   "cell_type": "code",
   "execution_count": 279,
   "id": "7328d995-fe27-49b6-89db-1992c98a0a97",
   "metadata": {},
   "outputs": [
    {
     "data": {
      "text/latex": [
       "$\\displaystyle \\left[\\begin{matrix}48.7162924156979 & 39.9162924156979 & 36.0699332813307\\\\39.9162924156979 & 48.7162924156979 & 36.0699332813307\\\\36.0699332813307 & 36.0699332813307 & 40.0404024941741\\end{matrix}\\right]$"
      ],
      "text/plain": [
       "Matrix([\n",
       "[48.7162924156979, 39.9162924156979, 36.0699332813307],\n",
       "[39.9162924156979, 48.7162924156979, 36.0699332813307],\n",
       "[36.0699332813307, 36.0699332813307, 40.0404024941741]])"
      ]
     },
     "execution_count": 279,
     "metadata": {},
     "output_type": "execute_result"
    }
   ],
   "source": [
    "Q_barra_45/1e9"
   ]
  },
  {
   "cell_type": "code",
   "execution_count": 280,
   "id": "11336e86-0cb1-4348-9b94-27bfe1df6936",
   "metadata": {},
   "outputs": [],
   "source": [
    "# Lâminas com theta = pi/2\n",
    "Q_barra_90 = Q_barra.subs({\n",
    "    m:sp.cos(pi/2),\n",
    "    n:sp.sin(pi/2)\n",
    "})\n",
    "\n",
    "Q_barra_90 = Q_barra_90.subs({\n",
    "    Q11 :Q11_value,\n",
    "    Q12 : Q21_value,\n",
    "    Q66 : Q66_value,\n",
    "    Q22 : Q22_value\n",
    "})"
   ]
  },
  {
   "cell_type": "code",
   "execution_count": 281,
   "id": "c73e646c-5ee0-4a92-86da-95f0c2c78575",
   "metadata": {},
   "outputs": [
    {
     "data": {
      "text/latex": [
       "$\\displaystyle \\left[\\begin{matrix}12.2168283472107 & 4.27588992152373 & 0\\\\4.27588992152373 & 156.496561472533 & 0\\\\0 & 0 & 4.4\\end{matrix}\\right]$"
      ],
      "text/plain": [
       "Matrix([\n",
       "[12.2168283472107, 4.27588992152373,   0],\n",
       "[4.27588992152373, 156.496561472533,   0],\n",
       "[               0,                0, 4.4]])"
      ]
     },
     "execution_count": 281,
     "metadata": {},
     "output_type": "execute_result"
    }
   ],
   "source": [
    "Q_barra_90/1e9"
   ]
  },
  {
   "cell_type": "code",
   "execution_count": 282,
   "id": "24fdf251-911b-4d02-919f-11ac55eb8160",
   "metadata": {},
   "outputs": [],
   "source": [
    "Q0 = Q_barra_0\n",
    "Q45 = Q_barra_45\n",
    "Q90 = Q_barra_90"
   ]
  },
  {
   "cell_type": "code",
   "execution_count": 283,
   "id": "4d672e7b-4f5a-4fb7-8d20-e10d5fc905cc",
   "metadata": {},
   "outputs": [],
   "source": [
    "A = sp.zeros(3)\n",
    "B = sp.zeros(3)\n",
    "D = sp.zeros(3)"
   ]
  },
  {
   "cell_type": "code",
   "execution_count": 284,
   "id": "04f8c71c-876e-4d52-8dda-627bf690c59b",
   "metadata": {},
   "outputs": [
    {
     "data": {
      "text/latex": [
       "$\\displaystyle \\left[\\begin{matrix}130.457809341265 & 29.0808433552472 & 21.6419599687984\\\\29.0808433552472 & 130.457809341265 & 21.6419599687984\\\\21.6419599687984 & 21.6419599687984 & 29.3042414965045\\end{matrix}\\right]$"
      ],
      "text/plain": [
       "Matrix([\n",
       "[130.457809341265, 29.0808433552472, 21.6419599687984],\n",
       "[29.0808433552472, 130.457809341265, 21.6419599687984],\n",
       "[21.6419599687984, 21.6419599687984, 29.3042414965045]])"
      ]
     },
     "execution_count": 284,
     "metadata": {},
     "output_type": "execute_result"
    }
   ],
   "source": [
    "A = Q0*(h1-h0) + Q45*(h2-h1) + Q90*(h3-h2) + Q0*(h4-h3) + Q45*(h5-h4) + Q90*(h6-h5)\n",
    "A/1e6"
   ]
  },
  {
   "cell_type": "code",
   "execution_count": 285,
   "id": "25ed4218-ed4c-4e19-803d-c5fe1663f067",
   "metadata": {},
   "outputs": [
    {
     "data": {
      "text/latex": [
       "$\\displaystyle \\left[\\begin{matrix}-25.9703519625581 & 0 & 0\\\\0 & 25.9703519625581 & 0\\\\0 & 0 & 0\\end{matrix}\\right]$"
      ],
      "text/plain": [
       "Matrix([\n",
       "[-25.9703519625581,                0, 0],\n",
       "[                0, 25.9703519625581, 0],\n",
       "[                0,                0, 0]])"
      ]
     },
     "execution_count": 285,
     "metadata": {},
     "output_type": "execute_result"
    }
   ],
   "source": [
    "B = (Q0*(h1**2-h0**2) + Q45*(h2**2-h1**2) + Q90*(h3**2-h2**2) + Q0*(h4**2-h3**2) + Q45*(h5**2-h4**2) + Q90*(h6**2-h5**2) )/2\n",
    "B[0,1] = 0\n",
    "B[1,0] = 0\n",
    "B[2,2] = 0\n",
    "\n",
    "B/1e3"
   ]
  },
  {
   "cell_type": "code",
   "execution_count": 286,
   "id": "9c17eb72-3ce8-4feb-a16a-e63d2da030b4",
   "metadata": {},
   "outputs": [
    {
     "data": {
      "text/latex": [
       "$\\displaystyle \\left[\\begin{matrix}36.5066630119318 & 6.56877321612647 & 4.54481159344766\\\\6.56877321612647 & 36.5066630119318 & 4.54481159344766\\\\4.54481159344766 & 4.54481159344766 & 6.62909071426594\\end{matrix}\\right]$"
      ],
      "text/plain": [
       "Matrix([\n",
       "[36.5066630119318, 6.56877321612647, 4.54481159344766],\n",
       "[6.56877321612647, 36.5066630119318, 4.54481159344766],\n",
       "[4.54481159344766, 4.54481159344766, 6.62909071426594]])"
      ]
     },
     "execution_count": 286,
     "metadata": {},
     "output_type": "execute_result"
    }
   ],
   "source": [
    "D = (Q0*(h1**3-h0**3) + Q45*(h2**3-h1**3) + Q90*(h3**3-h2**3) + Q0*(h4**3-h3**3) + Q45*(h5**3-h4**3) + Q90*(h6**3-h5**3))/3\n",
    "D"
   ]
  },
  {
   "cell_type": "code",
   "execution_count": 287,
   "id": "38b61f52-8692-4d31-80eb-3f731cc9ed07",
   "metadata": {},
   "outputs": [],
   "source": [
    "A_ast= A.inv()\n",
    "B_ast= -A.inv() * B\n",
    "C_ast= -B_ast.T\n",
    "D_ast= D - B*A.inv()*B"
   ]
  },
  {
   "cell_type": "code",
   "execution_count": 288,
   "id": "12b104b9-e61c-49a1-93bb-fb84626ab846",
   "metadata": {},
   "outputs": [],
   "source": [
    "A_linha = A_ast + (B_ast)*(D_ast.inv())*B_ast.T\n",
    "B_linha = (B_ast)*(D_ast.inv())\n",
    "C_linha = B_linha\n",
    "D_linha = D_ast.inv()"
   ]
  },
  {
   "cell_type": "code",
   "execution_count": 289,
   "id": "f1e6dff6-a95a-4d03-b17b-49c6e809c9a0",
   "metadata": {},
   "outputs": [
    {
     "data": {
      "text/latex": [
       "$\\displaystyle \\left[\\begin{matrix}36.844513977957 & -3.72177017626731 & -22.7084884677711\\\\-3.72177017626731 & 36.844513977957 & -22.708488467771\\\\-22.7084884677711 & -22.708488467771 & 181.987493506428\\end{matrix}\\right]$"
      ],
      "text/plain": [
       "Matrix([\n",
       "[  36.844513977957, -3.72177017626731, -22.7084884677711],\n",
       "[-3.72177017626731,   36.844513977957,  -22.708488467771],\n",
       "[-22.7084884677711,  -22.708488467771,  181.987493506428]])"
      ]
     },
     "execution_count": 289,
     "metadata": {},
     "output_type": "execute_result"
    }
   ],
   "source": [
    "D_linha/1e-3"
   ]
  },
  {
   "cell_type": "code",
   "execution_count": 290,
   "id": "e80673f5-a2e2-4557-a086-b94ab027cb6f",
   "metadata": {},
   "outputs": [
    {
     "data": {
      "text/latex": [
       "$\\displaystyle \\left[\\begin{matrix}30.5367333858702 & 5.88572033773862 & 4.54481159344766\\\\5.88572033773862 & 30.5367333858702 & 4.54481159344766\\\\4.54481159344766 & 4.54481159344766 & 6.62909071426594\\end{matrix}\\right]$"
      ],
      "text/plain": [
       "Matrix([\n",
       "[30.5367333858702, 5.88572033773862, 4.54481159344766],\n",
       "[5.88572033773862, 30.5367333858702, 4.54481159344766],\n",
       "[4.54481159344766, 4.54481159344766, 6.62909071426594]])"
      ]
     },
     "execution_count": 290,
     "metadata": {},
     "output_type": "execute_result"
    }
   ],
   "source": [
    "D_ast"
   ]
  },
  {
   "cell_type": "code",
   "execution_count": 291,
   "id": "2dc65909-57cc-4a04-acd1-d14a8bc3a765",
   "metadata": {},
   "outputs": [],
   "source": [
    "episilon0 = A_linha*N\n",
    "K = C_linha*N\n",
    "\n",
    "sigma_0 = Q0*episilon0\n",
    "sigma_45 = Q45*episilon0\n",
    "sigma_90 = Q90*episilon0"
   ]
  },
  {
   "cell_type": "code",
   "execution_count": 292,
   "id": "bd4a04c1-fc98-4e92-97f1-a48f7c56686d",
   "metadata": {},
   "outputs": [
    {
     "data": {
      "text/latex": [
       "$\\displaystyle \\left[\\begin{matrix}1.07788693952142\\\\-0.125902326750681\\\\-0.703065898598808\\end{matrix}\\right]$"
      ],
      "text/plain": [
       "Matrix([\n",
       "[  1.07788693952142],\n",
       "[-0.125902326750681],\n",
       "[-0.703065898598808]])"
      ]
     },
     "execution_count": 292,
     "metadata": {},
     "output_type": "execute_result"
    }
   ],
   "source": [
    "episilon0/1e-3"
   ]
  },
  {
   "cell_type": "code",
   "execution_count": 293,
   "id": "bb96e49c-8815-4cf1-9c49-440ec2c5df83",
   "metadata": {},
   "outputs": [
    {
     "data": {
      "text/latex": [
       "$\\displaystyle \\left[\\begin{matrix}0.837173828204957\\\\-0.0113515800363613\\\\-0.609891644468592\\end{matrix}\\right]$"
      ],
      "text/plain": [
       "Matrix([\n",
       "[  0.837173828204957],\n",
       "[-0.0113515800363613],\n",
       "[ -0.609891644468592]])"
      ]
     },
     "execution_count": 293,
     "metadata": {},
     "output_type": "execute_result"
    }
   ],
   "source": [
    "K"
   ]
  },
  {
   "cell_type": "code",
   "execution_count": 294,
   "id": "20e26927-890d-4231-b583-b1334586ac78",
   "metadata": {},
   "outputs": [],
   "source": [
    "T = sp.zeros(3)\n",
    "T[0,0] = m**2 \n",
    "T[0,1] = n**2\n",
    "T[0,2] = 2*m*n\n",
    "T[1,0] = n**2\n",
    "T[1,1] = m**2\n",
    "T[1,2] = -2*m*n\n",
    "T[2,0] = -m*n\n",
    "T[2,1] = m*n\n",
    "T[2,2] = (m**2 - n**2)"
   ]
  },
  {
   "cell_type": "code",
   "execution_count": 295,
   "id": "b8251ecc-3c9e-405e-95d3-7572ba07d621",
   "metadata": {},
   "outputs": [],
   "source": [
    "T_45 = T.subs({\n",
    "    m:sp.cos(pi/4),\n",
    "    n:sp.sin(pi/4)\n",
    "})\n",
    "\n",
    "T_0 = T.subs({\n",
    "    m:sp.cos(0),\n",
    "    n:sp.sin(0)\n",
    "})\n",
    "\n",
    "T_90 = T.subs({\n",
    "    m:sp.cos(pi/2),\n",
    "    n:sp.sin(pi/2)\n",
    "})"
   ]
  },
  {
   "cell_type": "code",
   "execution_count": 296,
   "id": "8f17a79f-3c3f-42e4-b56c-418c15fb2f11",
   "metadata": {},
   "outputs": [
    {
     "data": {
      "text/latex": [
       "$\\displaystyle \\left[\\begin{matrix}0 & 1 & 0\\\\1 & 0 & 0\\\\0 & 0 & -1\\end{matrix}\\right]$"
      ],
      "text/plain": [
       "Matrix([\n",
       "[0, 1,  0],\n",
       "[1, 0,  0],\n",
       "[0, 0, -1]])"
      ]
     },
     "execution_count": 296,
     "metadata": {},
     "output_type": "execute_result"
    }
   ],
   "source": [
    "T_90"
   ]
  },
  {
   "cell_type": "code",
   "execution_count": 297,
   "id": "87f43cd9-eb35-41b4-9793-c9b0d8531a93",
   "metadata": {},
   "outputs": [],
   "source": [
    "episilon_0_local = T_0*episilon0\n",
    "episilon_45_local = T_45*episilon0\n",
    "episilon_90_local = T_90*episilon0\n",
    "\n",
    "sigma_0_local = T_0*sigma_0\n",
    "sigma_45_local = T_45*sigma_45\n",
    "sigma_90_local = T_90*sigma_90"
   ]
  },
  {
   "attachments": {
    "74bce8e7-183d-4d84-8e9f-af633507d885.png": {
     "image/png": "[encoded data removed]"
    }
   },
   "cell_type": "markdown",
   "id": "f6e85974-7f26-44a4-8641-395115560fde",
   "metadata": {},
   "source": [
    "![image.png](attachment:74bce8e7-183d-4d84-8e9f-af633507d885.png)"
   ]
  },
  {
   "cell_type": "markdown",
   "id": "8d3293da-6f99-4cd0-819f-acb398561fb1",
   "metadata": {},
   "source": [
    "### Tensão e deformação em cada lâmina no sistema global e local"
   ]
  },
  {
   "cell_type": "code",
   "execution_count": 298,
   "id": "df4061f7-9691-436d-af37-86dc17942b33",
   "metadata": {},
   "outputs": [],
   "source": [
    "def tensao_deformacao(Q_barra_X, z, T):\n",
    "    \n",
    "    dict_tensao_deformacao_local = {\"sigma\":{\"botton\":[], \"mid\":[], \"top\":[]}, \"epsilon\":{\"botton\":[], \"mid\":[], \"top\":[]}}\n",
    "    dict_tensao_deformacao_global = {\"sigma\":{\"botton\":[], \"mid\":[], \"top\":[]}, \"epsilon\":{\"botton\":[], \"mid\":[], \"top\":[]}}\n",
    "    \n",
    "    #Q_barra é o Q_barra correspondente de cada lâmina\n",
    "    #z é a altura da base de cada lâmina, para a lâmina I da figura acima, z = -2*h\n",
    "\n",
    "    z_botton = z\n",
    "    z_mid = z + h/2\n",
    "    z_top = z + h\n",
    "    \n",
    "    sigma_global_botton = Q_barra_X*(episilon0 + z_botton*K)\n",
    "    sigma_local_botton = T*sigma_global_botton\n",
    "    epsilon_global_botton = episilon0 + z_botton*K\n",
    "    epsilon_local_botton = T*epsilon_global_botton\n",
    "\n",
    "    sigma_global_mid = Q_barra_X*(episilon0 + z_mid*K)\n",
    "    sigma_local_mid = T*sigma_global_mid\n",
    "    epsilon_global_mid = episilon0 + z_mid*K\n",
    "    epsilon_local_mid = T*epsilon_global_mid\n",
    "\n",
    "    \n",
    "    sigma_global_top = Q_barra_X*(episilon0 + z_top*K)\n",
    "    sigma_local_top = T*sigma_global_top\n",
    "    epsilon_global_top = episilon0 + z_top*K\n",
    "    epsilon_local_top = T*epsilon_global_top\n",
    "    \n",
    "    \n",
    "    dict_tensao_deformacao_global['sigma']['botton'] = sigma_global_botton/1e6\n",
    "    dict_tensao_deformacao_global['sigma']['mid'] = sigma_global_mid/1e6\n",
    "    dict_tensao_deformacao_global['sigma']['top'] = sigma_global_top/1e6\n",
    "    dict_tensao_deformacao_global['epsilon']['botton'] =epsilon_global_botton\n",
    "    dict_tensao_deformacao_global['epsilon']['mid'] = epsilon_global_mid\n",
    "    dict_tensao_deformacao_global['epsilon']['top'] = epsilon_global_top\n",
    "    \n",
    "\n",
    "    dict_tensao_deformacao_local['sigma']['botton'] = sigma_local_botton/1e6\n",
    "    dict_tensao_deformacao_local['sigma']['mid'] = sigma_local_mid/1e6\n",
    "    dict_tensao_deformacao_local['sigma']['top'] = sigma_local_top/1e6\n",
    "    dict_tensao_deformacao_local['epsilon']['botton'] =epsilon_local_botton\n",
    "    dict_tensao_deformacao_local['epsilon']['mid'] = epsilon_local_mid\n",
    "    dict_tensao_deformacao_local['epsilon']['top'] = epsilon_local_top\n",
    "    \n",
    "\n",
    "    #Printando tensões em [MPa] e deformações em [mm]\n",
    "    print(\"BOTTON\")\n",
    "    print(\"SIGMA_GLOBAL: {}\".format(sigma_global_botton/1e6))\n",
    "    print(\"EPSILON_GLOBAL: {}\".format(1000*epsilon_global_botton))\n",
    "    print(\"SIGMA_LOCAL: {}\".format(sigma_local_botton/1e6))\n",
    "    print(\"EPSILON_LOCAL: {}\".format(1000*epsilon_local_botton))\n",
    "\n",
    "    print(\"----------------------------------------------------\")\n",
    "    print(\"MID\")\n",
    "    print(\"SIGMA_GLOBAL: {}\".format(sigma_global_mid/1e6))\n",
    "    print(\"EPSILON_GLOBAL: {}\".format(1000*epsilon_global_mid))\n",
    "    print(\"SIGMA_LOCAL: {}\".format(sigma_local_mid/1e6))\n",
    "    print(\"EPSILON_LOCAL: {}\".format(1000*epsilon_local_mid))\n",
    "    print(\"----------------------------------------------------\")\n",
    "    print(\"TOP\")\n",
    "    print(\"SIGMA_GLOBAL: {}\".format(sigma_global_top/1e6))\n",
    "    print(\"EPSILON_GLOBAL: {}\".format(1000*epsilon_global_top))\n",
    "    print(\"SIGMA_LOCAL: {}\".format(sigma_local_top/1e6))\n",
    "    print(\"EPSILON_LOCAL: {}\".format(1000*epsilon_local_top))\n",
    "    print(\"----------------------------------------------------\")\n",
    "    \n",
    "    #Retornando tensões em [MPa] e deformacoes em [m]\n",
    "    #return sigma_local_botton/1e6, epsilon_local_botton, sigma_local_mid/1e6, epsilon_local_mid, sigma_local_top/1e6, epsilon_local_top\n",
    "    return dict_tensao_deformacao_local"
   ]
  },
  {
   "cell_type": "code",
   "execution_count": 299,
   "id": "f4349c61-73b7-4c83-b77b-080acf4e59b8",
   "metadata": {},
   "outputs": [
    {
     "name": "stdout",
     "output_type": "stream",
     "text": [
      "BOTTON\n",
      "SIGMA_GLOBAL: Matrix([[50.2775965752231], [-0.0260857600158502], [-0.678319041739131]])\n",
      "EPSILON_GLOBAL: Matrix([[0.324430494136959], [-0.115685904717956], [-0.154163418577075]])\n",
      "SIGMA_LOCAL: Matrix([[50.2775965752231], [-0.0260857600158502], [-0.678319041739131]])\n",
      "EPSILON_LOCAL: Matrix([[0.324430494136959], [-0.115685904717956], [-0.154163418577075]])\n",
      "----------------------------------------------------\n",
      "MID\n",
      "SIGMA_GLOBAL: Matrix([[69.9225396795534], [0.490061664455825], [-1.08084752708840]])\n",
      "EPSILON_GLOBAL: Matrix([[0.450006568367702], [-0.117388641723410], [-0.245647165247364]])\n",
      "SIGMA_LOCAL: Matrix([[69.9225396795534], [0.490061664455825], [-1.08084752708840]])\n",
      "EPSILON_LOCAL: Matrix([[0.450006568367702], [-0.117388641723410], [-0.245647165247364]])\n",
      "----------------------------------------------------\n",
      "TOP\n",
      "SIGMA_GLOBAL: Matrix([[89.5674827838837], [1.00620908892750], [-1.48337601243767]])\n",
      "EPSILON_GLOBAL: Matrix([[0.575582642598446], [-0.119091378728864], [-0.337130911917653]])\n",
      "SIGMA_LOCAL: Matrix([[89.5674827838837], [1.00620908892750], [-1.48337601243767]])\n",
      "EPSILON_LOCAL: Matrix([[0.575582642598446], [-0.119091378728864], [-0.337130911917653]])\n",
      "----------------------------------------------------\n"
     ]
    }
   ],
   "source": [
    "#Lâmina 1, z = -3*h, Q_barra_0\n",
    "\n",
    "lamina1_sigma_epsilon = tensao_deformacao(Q_barra_X = Q_barra_0, z = -3*h, T = T_0)"
   ]
  },
  {
   "cell_type": "code",
   "execution_count": 300,
   "id": "7a820dd8-21d2-41bd-b29f-1759c721e9c3",
   "metadata": {},
   "outputs": [
    {
     "name": "stdout",
     "output_type": "stream",
     "text": [
      "BOTTON\n",
      "SIGMA_GLOBAL: Matrix([[11.1262765287521], [5.01314514107181], [2.96675202487534]])\n",
      "EPSILON_GLOBAL: Matrix([[0.575582642598446], [-0.119091378728864], [-0.337130911917653]])\n",
      "SIGMA_LOCAL: Matrix([[11.0364628597873], [5.10295881003664], [-3.05656569384016]])\n",
      "EPSILON_LOCAL: Matrix([[-0.108885279982862], [0.565376543852444], [-0.347337010663655]])\n",
      "----------------------------------------------------\n",
      "MID\n",
      "SIGMA_GLOBAL: Matrix([[13.8760976944522], [6.64291276789335], [3.77180899557389]])\n",
      "EPSILON_GLOBAL: Matrix([[0.701158716829190], [-0.120794115734319], [-0.428614658587941]])\n",
      "SIGMA_LOCAL: Matrix([[14.0313142267467], [6.48769623559890], [-3.61659246327944]])\n",
      "EPSILON_LOCAL: Matrix([[-0.138432358040506], [0.718796959135377], [-0.410976416281754]])\n",
      "----------------------------------------------------\n",
      "TOP\n",
      "SIGMA_GLOBAL: Matrix([[16.6259188601523], [8.27268039471488], [4.57686596627242]])\n",
      "EPSILON_GLOBAL: Matrix([[0.826734791059933], [-0.122496852739773], [-0.520098405258230]])\n",
      "SIGMA_LOCAL: Matrix([[17.0261655937060], [7.87243366116117], [-4.17661923271871]])\n",
      "EPSILON_LOCAL: Matrix([[-0.167979436098150], [0.872217374418310], [-0.474615821899853]])\n",
      "----------------------------------------------------\n"
     ]
    }
   ],
   "source": [
    "#Lâmina 2, z = -2*h, Q_barra_45\n",
    "lamina2_sigma_epsilon = tensao_deformacao(Q_barra_X = Q_barra_45, z = -2*h, T = T_45)"
   ]
  },
  {
   "cell_type": "code",
   "execution_count": 301,
   "id": "ee0fc4b8-585a-47c6-aa01-ab7ea45e447d",
   "metadata": {},
   "outputs": [
    {
     "name": "stdout",
     "output_type": "stream",
     "text": [
      "BOTTON\n",
      "SIGMA_GLOBAL: Matrix([[9.57629397299791], [-15.6353092841155], [-2.28843298313621]])\n",
      "EPSILON_GLOBAL: Matrix([[0.826734791059933], [-0.122496852739773], [-0.520098405258230]])\n",
      "SIGMA_LOCAL: Matrix([[-15.6353092841155], [9.57629397299791], [2.28843298313621]])\n",
      "EPSILON_LOCAL: Matrix([[-0.122496852739773], [0.826734791059933], [0.520098405258230]])\n",
      "----------------------------------------------------\n",
      "MID\n",
      "SIGMA_GLOBAL: Matrix([[11.1031546003909], [-15.3648323003734], [-2.69096146848548]])\n",
      "EPSILON_GLOBAL: Matrix([[0.952310865290677], [-0.124199589745227], [-0.611582151928519]])\n",
      "SIGMA_LOCAL: Matrix([[-15.3648323003734], [11.1031546003909], [2.69096146848548]])\n",
      "EPSILON_LOCAL: Matrix([[-0.124199589745227], [0.952310865290677], [0.611582151928519]])\n",
      "----------------------------------------------------\n",
      "TOP\n",
      "SIGMA_GLOBAL: Matrix([[12.6300152277838], [-15.0943553166312], [-3.09348995383475]])\n",
      "EPSILON_GLOBAL: Matrix([[1.07788693952142], [-0.125902326750681], [-0.703065898598808]])\n",
      "SIGMA_LOCAL: Matrix([[-15.0943553166312], [12.6300152277838], [3.09348995383475]])\n",
      "EPSILON_LOCAL: Matrix([[-0.125902326750681], [1.07788693952142], [0.703065898598808]])\n",
      "----------------------------------------------------\n"
     ]
    }
   ],
   "source": [
    "#Lâmina 3, z = -*h, Q_barra_90\n",
    "lamina3_sigma_epsilon = tensao_deformacao(Q_barra_X = Q_barra_90, z = -h, T = T_90)"
   ]
  },
  {
   "cell_type": "code",
   "execution_count": 302,
   "id": "4170fffb-d556-41fb-9538-9c1449ab7b8b",
   "metadata": {},
   "outputs": [
    {
     "name": "stdout",
     "output_type": "stream",
     "text": [
      "BOTTON\n",
      "SIGMA_GLOBAL: Matrix([[168.147255201205], [3.07079878681420], [-3.09348995383475]])\n",
      "EPSILON_GLOBAL: Matrix([[1.07788693952142], [-0.125902326750681], [-0.703065898598808]])\n",
      "SIGMA_LOCAL: Matrix([[168.147255201205], [3.07079878681420], [-3.09348995383475]])\n",
      "EPSILON_LOCAL: Matrix([[1.07788693952142], [-0.125902326750681], [-0.703065898598808]])\n",
      "----------------------------------------------------\n",
      "MID\n",
      "SIGMA_GLOBAL: Matrix([[187.792198305535], [3.58694621128588], [-3.49601843918402]])\n",
      "EPSILON_GLOBAL: Matrix([[1.20346301375216], [-0.127605063756135], [-0.794549645269096]])\n",
      "SIGMA_LOCAL: Matrix([[187.792198305535], [3.58694621128588], [-3.49601843918402]])\n",
      "EPSILON_LOCAL: Matrix([[1.20346301375216], [-0.127605063756135], [-0.794549645269096]])\n",
      "----------------------------------------------------\n",
      "TOP\n",
      "SIGMA_GLOBAL: Matrix([[207.437141409866], [4.10309363575755], [-3.89854692453329]])\n",
      "EPSILON_GLOBAL: Matrix([[1.32903908798291], [-0.129307800761590], [-0.886033391939385]])\n",
      "SIGMA_LOCAL: Matrix([[207.437141409866], [4.10309363575755], [-3.89854692453329]])\n",
      "EPSILON_LOCAL: Matrix([[1.32903908798291], [-0.129307800761590], [-0.886033391939385]])\n",
      "----------------------------------------------------\n"
     ]
    }
   ],
   "source": [
    "#Lâmina 4, z = 0, Q_barra_0\n",
    "lamina4_sigma_epsilon = tensao_deformacao(Q_barra_X = Q_barra_0, z = 0, T = T_0)"
   ]
  },
  {
   "cell_type": "code",
   "execution_count": 303,
   "id": "8f3f97d4-a4b7-4819-a3ed-8094f49a4243",
   "metadata": {},
   "outputs": [
    {
     "name": "stdout",
     "output_type": "stream",
     "text": [
      "BOTTON\n",
      "SIGMA_GLOBAL: Matrix([[27.6252035229526], [14.7917509020010], [7.79709384906659]])\n",
      "EPSILON_GLOBAL: Matrix([[1.32903908798291], [-0.129307800761590], [-0.886033391939385]])\n",
      "SIGMA_LOCAL: Matrix([[29.0055710615434], [13.4113833634102], [-6.41672631047579]])\n",
      "EPSILON_LOCAL: Matrix([[-0.286167748328726], [1.48589903555004], [-0.729173444372249]])\n",
      "----------------------------------------------------\n",
      "MID\n",
      "SIGMA_GLOBAL: Matrix([[30.3750246886527], [16.4215185288226], [8.60215081976511]])\n",
      "EPSILON_GLOBAL: Matrix([[1.45461516221365], [-0.131010537767044], [-0.977517138609674]])\n",
      "SIGMA_LOCAL: Matrix([[32.0004224285027], [14.7961207889725], [-6.97675307991506]])\n",
      "EPSILON_LOCAL: Matrix([[-0.315714826386370], [1.63931945083298], [-0.792812849990348]])\n",
      "----------------------------------------------------\n",
      "TOP\n",
      "SIGMA_GLOBAL: Matrix([[33.1248458543528], [18.0512861556441], [9.40720779046366]])\n",
      "EPSILON_GLOBAL: Matrix([[1.58019123644440], [-0.132713274772498], [-1.06900088527996]])\n",
      "SIGMA_LOCAL: Matrix([[34.9952737954621], [16.1808582145348], [-7.53677984935433]])\n",
      "EPSILON_LOCAL: Matrix([[-0.345261904444014], [1.79273986611591], [-0.856452255608447]])\n",
      "----------------------------------------------------\n"
     ]
    }
   ],
   "source": [
    "#Lâmina 5, z = 45, Q_barra_45\n",
    "lamina5_sigma_epsilon = tensao_deformacao(Q_barra_X = Q_barra_45, z = h, T = T_45)"
   ]
  },
  {
   "cell_type": "code",
   "execution_count": 304,
   "id": "29d5946d-93f8-4be2-b567-e621e1753176",
   "metadata": {},
   "outputs": [
    {
     "name": "stdout",
     "output_type": "stream",
     "text": [
      "BOTTON\n",
      "SIGMA_GLOBAL: Matrix([[18.7374577373556], [-14.0124473816627], [-4.70360389523184]])\n",
      "EPSILON_GLOBAL: Matrix([[1.58019123644440], [-0.132713274772498], [-1.06900088527996]])\n",
      "SIGMA_LOCAL: Matrix([[-14.0124473816627], [18.7374577373556], [4.70360389523184]])\n",
      "EPSILON_LOCAL: Matrix([[-0.132713274772498], [1.58019123644440], [1.06900088527996]])\n",
      "----------------------------------------------------\n",
      "MID\n",
      "SIGMA_GLOBAL: Matrix([[20.2643183647486], [-13.7419703979206], [-5.10613238058111]])\n",
      "EPSILON_GLOBAL: Matrix([[1.70576731067514], [-0.134416011777952], [-1.16048463195025]])\n",
      "SIGMA_LOCAL: Matrix([[-13.7419703979206], [20.2643183647486], [5.10613238058111]])\n",
      "EPSILON_LOCAL: Matrix([[-0.134416011777952], [1.70576731067514], [1.16048463195025]])\n",
      "----------------------------------------------------\n",
      "TOP\n",
      "SIGMA_GLOBAL: Matrix([[21.7911789921415], [-13.4714934141784], [-5.50866086593038]])\n",
      "EPSILON_GLOBAL: Matrix([[1.83134338490588], [-0.136118748783406], [-1.25196837862054]])\n",
      "SIGMA_LOCAL: Matrix([[-13.4714934141784], [21.7911789921415], [5.50866086593038]])\n",
      "EPSILON_LOCAL: Matrix([[-0.136118748783406], [1.83134338490588], [1.25196837862054]])\n",
      "----------------------------------------------------\n"
     ]
    }
   ],
   "source": [
    "#Lâmina 6, z = 90, Q_barra_90\n",
    "lamina6_sigma_epsilon = tensao_deformacao(Q_barra_X = Q_barra_90, z = 2*h, T = T_90)"
   ]
  },
  {
   "cell_type": "code",
   "execution_count": 305,
   "id": "5b4505c0-bde8-4f08-b854-a16246edbc73",
   "metadata": {},
   "outputs": [
    {
     "data": {
      "text/plain": [
       "{'sigma': {'botton': Matrix([\n",
       "  [ 29.0055710615434],\n",
       "  [ 13.4113833634102],\n",
       "  [-6.41672631047579]]),\n",
       "  'mid': Matrix([\n",
       "  [ 32.0004224285027],\n",
       "  [ 14.7961207889725],\n",
       "  [-6.97675307991506]]),\n",
       "  'top': Matrix([\n",
       "  [ 34.9952737954621],\n",
       "  [ 16.1808582145348],\n",
       "  [-7.53677984935433]])},\n",
       " 'epsilon': {'botton': Matrix([\n",
       "  [-0.000286167748328726],\n",
       "  [  0.00148589903555004],\n",
       "  [-0.000729173444372249]]),\n",
       "  'mid': Matrix([\n",
       "  [ -0.00031571482638637],\n",
       "  [  0.00163931945083298],\n",
       "  [-0.000792812849990348]]),\n",
       "  'top': Matrix([\n",
       "  [-0.000345261904444014],\n",
       "  [  0.00179273986611591],\n",
       "  [-0.000856452255608447]])}}"
      ]
     },
     "execution_count": 305,
     "metadata": {},
     "output_type": "execute_result"
    }
   ],
   "source": [
    "lamina5_sigma_epsilon"
   ]
  },
  {
   "cell_type": "markdown",
   "id": "d1262651-f05c-4a4a-b514-b09f3f1fa23a",
   "metadata": {},
   "source": [
    "### c) Critérios de falha"
   ]
  },
  {
   "cell_type": "code",
   "execution_count": 306,
   "id": "7ea21eab-e5aa-4312-9293-29c406fdc977",
   "metadata": {},
   "outputs": [],
   "source": [
    "class criterios:\n",
    "        \n",
    "    def __init__(self, lamina_sigma_epsilon):\n",
    "        \n",
    "        self.dict_margens = {\"botton\" : {\"max_tensao\": {}, \"max_deformacao\": {}, \"tsai_wu\": {}, \"tsai_hill\":{}},\n",
    "                \"mid\":{\"max_tensao\": {}, \"max_deformacao\": {}, \"tsai_wu\": {}, \"tsai_hill\":{}},\n",
    "                \"top\":{\"max_tensao\": {}, \"max_deformacao\": {}, \"tsai_wu\": {}, \"tsai_hill\":{}}}\n",
    "               \n",
    "        self.lamina = lamina_sigma_epsilon\n",
    "        \n",
    "        #[MPa]\n",
    "        self.XT = 250\n",
    "        self.YT = 40\n",
    "        self.XC = -180\n",
    "        self.YC = -45\n",
    "        self.S12 = 47\n",
    "\n",
    "        #[m]\n",
    "        self.XT_linha = 0.020\n",
    "        self.YT_linha = 0.007\n",
    "        self.XC_linha = -0.018\n",
    "        self.YC_linha = -0.012\n",
    "        self.S12_linha = 0.010\n",
    "        \n",
    "    def max_tensao(self, lamina):\n",
    "        \n",
    "        sigma_1 = lamina[0] \n",
    "        sigma_2 = lamina[1]\n",
    "        sigma_12 = lamina[2]\n",
    "        \n",
    "        if sigma_1 > 0:\n",
    "            MS_1 = self.XT/sigma_1 - 1\n",
    "        else:\n",
    "            MS_1 = self.XC/sigma_1 - 1 \n",
    "            \n",
    "        if sigma_2 > 0:\n",
    "            MS_2 = self.YT/sigma_2 - 1\n",
    "        else:\n",
    "            MS_2 = self.YC/sigma_2 - 1\n",
    "            \n",
    "        MS_12 = self.S12/abs(sigma_12) - 1\n",
    "        \n",
    "        return sp.Matrix([MS_1,MS_2,MS_12])\n",
    "            \n",
    "    def max_deformacao(self, lamina):\n",
    "        \n",
    "        epsilon_1 = lamina[0] \n",
    "        epsilon_2 = lamina[1]\n",
    "        epsilon_12 = lamina[2]\n",
    "                \n",
    "        if epsilon_1 > 0:\n",
    "            MS_1 = self.XT_linha/epsilon_1 - 1\n",
    "        else:\n",
    "            MS_1 = self.XC_linha/epsilon_1 - 1 \n",
    "            \n",
    "        if epsilon_2 > 0:\n",
    "            MS_2 = self.YT_linha/epsilon_2 - 1\n",
    "        else:\n",
    "            MS_2 = self.YC_linha/epsilon_2 - 1\n",
    "            \n",
    "        MS_12 = self.S12_linha/abs(epsilon_12) - 1\n",
    "        \n",
    "        return sp.Matrix([MS_1,MS_2,MS_12])\n",
    "        \n",
    "    def tsai_wu(self, lamina):\n",
    "        \n",
    "        sigma_1 = lamina[0] \n",
    "        sigma_2 = lamina[1]\n",
    "        sigma_12 = lamina[2]\n",
    "        \n",
    "        \n",
    "        F1 = 1/self.XT + 1/self.XC\n",
    "        F11 = -1/(self.XT*self.XC)\n",
    "        F2 = 1/self.YT + 1/self.YC\n",
    "        F22 = -1/(self.YT*self.YC)\n",
    "        F66 = (1/self.S12)**2\n",
    "        F12 = -0.5*(F11*F22)**.5\n",
    "        \n",
    "        A = F11*sigma_1**2 + F22*sigma_2**2 + F66*sigma_12**2 + 2 *F12*sigma_1*sigma_2\n",
    "        B = F1*sigma_1 + F2*sigma_2\n",
    "        \n",
    "        Sf_menos = abs((-B - (B**2 + 4*A)**.5)/(2*A))\n",
    "        Sf_mais = (-B + (B**2 + 4*A)**.5)/(2*A)\n",
    "        \n",
    "        MS_menos =  Sf_menos - 1\n",
    "        MS_mais = Sf_mais - 1\n",
    "        \n",
    "        return MS_mais\n",
    "        \n",
    "    def tsai_hill(self, lamina):\n",
    "        \n",
    "        sigma_1 = lamina[0] \n",
    "        sigma_2 = lamina[1]\n",
    "        sigma_12 = lamina[2]\n",
    "        \n",
    "        if sigma_1 >0 and sigma_2 > 0:\n",
    "            self.f_sigma = (sigma_1**2)/self.XT**2 + (sigma_2**2)/self.YT**2 - (sigma_1*sigma_2)/self.XT**2 + (sigma_12**2)/self.S12**2\n",
    "        elif sigma_1>0 and sigma_2<0:\n",
    "            self.f_sigma = (sigma_1**2)/self.XT**2 + (sigma_2**2)/self.YC**2 - (sigma_1*sigma_2)/self.XT**2 + (sigma_12**2)/self.S12**2\n",
    "        elif sigma_1<0 and sigma_2<0:\n",
    "            self.f_sigma = (sigma_1**2)/self.XC**2 + (sigma_2**2)/self.YC**2 - (sigma_1*sigma_2)/self.XC**2 + (sigma_12**2)/self.S12**2\n",
    "        elif sigma_1<0 and sigma_2>0:\n",
    "            self.f_sigma = (sigma_1**2)/self.XC**2 + (sigma_2**2)/self.YT**2 - (sigma_1*sigma_2)/self.XC**2 + (sigma_12**2)/self.S12**2\n",
    "        \n",
    "        self.FS = self.f_sigma**.5\n",
    "        self.MS = 1/self.FS - 1\n",
    "        \n",
    "        return self.MS\n",
    "    \n",
    "    def calculo_margens(self):\n",
    "    \n",
    "        for posicao in ['botton', 'mid', 'top']:\n",
    "            \n",
    "            self.dict_margens[posicao]['max_tensao'] = self.max_tensao(self.lamina['sigma'][posicao])\n",
    "            self.dict_margens[posicao]['max_deformacao'] = self.max_deformacao(self.lamina['epsilon'][posicao])\n",
    "            self.dict_margens[posicao]['tsai_wu'] = self.tsai_wu(self.lamina['sigma'][posicao])\n",
    "            self.dict_margens[posicao]['tsai_hill'] = self.tsai_hill(self.lamina['sigma'][posicao])\n",
    "            \n",
    "        return self.dict_margens"
   ]
  },
  {
   "cell_type": "code",
   "execution_count": 307,
   "id": "06ef3124-07a4-46cf-a593-13d29567e644",
   "metadata": {},
   "outputs": [],
   "source": [
    "ms_lamina1 = criterios(lamina1_sigma_epsilon).calculo_margens()\n",
    "ms_lamina2 = criterios(lamina2_sigma_epsilon).calculo_margens()\n",
    "ms_lamina3 = criterios(lamina3_sigma_epsilon).calculo_margens()\n",
    "ms_lamina4 = criterios(lamina4_sigma_epsilon).calculo_margens()\n",
    "ms_lamina5 = criterios(lamina5_sigma_epsilon).calculo_margens()\n",
    "ms_lamina6 = criterios(lamina6_sigma_epsilon).calculo_margens()"
   ]
  },
  {
   "cell_type": "code",
   "execution_count": 315,
   "id": "34066ff5-f01b-42a1-b4f1-4911d569865d",
   "metadata": {},
   "outputs": [
    {
     "name": "stdout",
     "output_type": "stream",
     "text": [
      "###### Posicao: botton ######\n",
      "-> Método: max_tensao\n",
      "MS: Matrix([[3.97239361125708], [1724.07912258095], [68.2889291143847]])\n",
      "-> Método: max_deformacao\n",
      "MS: Matrix([[60.6464862626537], [102.729145130136], [63.8662315113389]])\n",
      "-> Método: tsai_wu\n",
      "MS: 3.95499448358133\n",
      "-> Método: tsai_hill\n",
      "MS: 3.95833904592579\n",
      "###### Posicao: mid ######\n",
      "-> Método: max_tensao\n",
      "MS: Matrix([[2.57538500669055], [80.6223812250584], [42.4843942573557]])\n",
      "-> Método: max_deformacao\n",
      "MS: Matrix([[43.4437957262391], [101.224540839941], [39.7087946239075]])\n",
      "-> Método: tsai_wu\n",
      "MS: 2.62952345206973\n",
      "-> Método: tsai_hill\n",
      "MS: 2.57240213266754\n",
      "###### Posicao: top ######\n",
      "-> Método: max_tensao\n",
      "MS: Matrix([[1.79119153770595], [38.7531690382913], [30.6844816189010]])\n",
      "-> Método: max_deformacao\n",
      "MS: Matrix([[33.7473994519897], [99.7629614173871], [28.6620678985456]])\n",
      "-> Método: tsai_wu\n",
      "MS: 1.86171354517517\n",
      "-> Método: tsai_hill\n",
      "MS: 1.78916146115782\n"
     ]
    }
   ],
   "source": [
    "# MS para a lâmina 1\n",
    "\n",
    "for position in ['botton', 'mid', 'top']:\n",
    "    print(\"###### Posicao: {} ######\".format(position))\n",
    "    for metodo in ['max_tensao', 'max_deformacao', 'tsai_wu', 'tsai_hill']:\n",
    "        print(\"-> Método: {}\".format(metodo))\n",
    "        print(\"MS: {}\".format(ms_lamina1[position][metodo]))"
   ]
  }
 ],
 "metadata": {
  "kernelspec": {
   "display_name": "Python 3",
   "language": "python",
   "name": "python3"
  },
  "language_info": {
   "codemirror_mode": {
    "name": "ipython",
    "version": 3
   },
   "file_extension": ".py",
   "mimetype": "text/x-python",
   "name": "python",
   "nbconvert_exporter": "python",
   "pygments_lexer": "ipython3",
   "version": "3.8.11"
  }
 },
 "nbformat": 4,
 "nbformat_minor": 5
}
