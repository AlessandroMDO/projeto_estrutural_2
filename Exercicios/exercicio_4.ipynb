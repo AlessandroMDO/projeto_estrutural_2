{
 "cells": [
  {
   "cell_type": "markdown",
   "id": "0d50146e-f85c-4b6e-8c61-2f62ca9cb050",
   "metadata": {},
   "source": [
    "Nome: Alessandro Melo de Oliveira\n",
    "\n",
    "NºUSP: 10788662"
   ]
  },
  {
   "cell_type": "markdown",
   "id": "2a640910-d462-48b7-9bb6-38e5e9e1b8ca",
   "metadata": {},
   "source": [
    "# EXERCÍCIO IV"
   ]
  },
  {
   "cell_type": "code",
   "execution_count": 267,
   "id": "d887e9ee-ac09-4e26-857d-0c42b0b7968e",
   "metadata": {},
   "outputs": [],
   "source": [
    "import sympy as sp\n",
    "from sympy import pi"
   ]
  },
  {
   "cell_type": "code",
   "execution_count": 268,
   "id": "c2cf2a8f-f3a5-42e8-92e4-bd9ce62eb2bc",
   "metadata": {},
   "outputs": [],
   "source": [
    "m,n = sp.symbols('m n')"
   ]
  },
  {
   "cell_type": "code",
   "execution_count": 269,
   "id": "de0e6afe-342f-4d76-894a-0b6c9fdf6272",
   "metadata": {},
   "outputs": [],
   "source": [
    "E11 = 1550001e6 #[Pa]\n",
    "E22 = 121001e6 #[Pa]\n",
    "v12 = 0.35\n",
    "G12 = 44001e6 #[Pa]\n",
    "\n",
    "h_skin = 0.1/1000 # [m]\n",
    "h_PVC = 30/1000 #[m]\n",
    "\n",
    "deltaP = (11.3e-3)*1e6 #[Pa]\n",
    "\n",
    "Mx = 100 # [N.mm/mm]\n",
    "Ny = deltaP*(2*h_skin + h_PVC) #[N]\n",
    "Nx = Ny/2 #{N}"
   ]
  },
  {
   "cell_type": "code",
   "execution_count": 320,
   "id": "9b6bd017-3e6e-44b7-9d0e-3571a914d161",
   "metadata": {},
   "outputs": [
    {
     "data": {
      "text/plain": [
       "170.63"
      ]
     },
     "execution_count": 320,
     "metadata": {},
     "output_type": "execute_result"
    }
   ],
   "source": [
    "Nx"
   ]
  },
  {
   "cell_type": "code",
   "execution_count": 270,
   "id": "b3055d53-ebda-4aec-8b5c-27b490fcad73",
   "metadata": {},
   "outputs": [],
   "source": [
    "N = sp.Matrix([Nx,Ny,0]) # [N/mm]\n",
    "M = sp.Matrix([Mx,0,0]) # [N/mm]"
   ]
  },
  {
   "cell_type": "code",
   "execution_count": 271,
   "id": "44cbd2e0-3f5c-4eb4-a969-4cc671b6913d",
   "metadata": {},
   "outputs": [],
   "source": [
    "E11 = 155000*1e6\n",
    "E22 = 12100*1e6\n",
    "G12 = 4400*1e6\n",
    "v12 = 0.35\n",
    "\n",
    "E11_nucleo = 75*1e6\n",
    "E22_nucleo = 75*1e6\n",
    "G12_nucleo = 20*1e6\n",
    "v12_nucleo = (E11_nucleo - 2 * G12_nucleo) / (2 * G12_nucleo)"
   ]
  },
  {
   "cell_type": "code",
   "execution_count": 272,
   "id": "1460fe5c-c98a-4a7a-87e9-14204b728d8e",
   "metadata": {},
   "outputs": [
    {
     "data": {
      "text/plain": [
       "0.875"
      ]
     },
     "execution_count": 272,
     "metadata": {},
     "output_type": "execute_result"
    }
   ],
   "source": [
    "v12_nucleo"
   ]
  },
  {
   "cell_type": "code",
   "execution_count": 273,
   "id": "98c4b6ae-76ec-4130-90df-1eeee20e0389",
   "metadata": {},
   "outputs": [],
   "source": [
    "h0 = -h_PVC/2 -2*h_skin\n",
    "h1 = -h_PVC/2 - h_skin\n",
    "h2 = -h_PVC/2\n",
    "h3 = 0\n",
    "h4 = h_PVC/2\n",
    "h5 = h_PVC/2 + h_skin\n",
    "h6 = h_PVC/2 + 2*h_skin"
   ]
  },
  {
   "cell_type": "code",
   "execution_count": 274,
   "id": "447d3e12-f2f3-459a-a98f-08e415a73948",
   "metadata": {},
   "outputs": [],
   "source": [
    "Q11_value = (E11**2)/(E11-v12**2 * E22)\n",
    "Q21_value =  (v12*E11*E22)/(E11-v12**2 * E22)\n",
    "Q22_value = (E11*E22)/(E11-v12**2 * E22)\n",
    "Q66_value = G12\n",
    "\n",
    "Q11_value_nucleo = (E11_nucleo**2)/(E11_nucleo-v12**2 * E22_nucleo)\n",
    "Q21_value_nucleo =  (v12_nucleo*E11_nucleo*E22_nucleo)/(E11_nucleo-v12_nucleo**2 * E22_nucleo)\n",
    "Q22_value_nucleo = (E11_nucleo*E22_nucleo)/(E11_nucleo-v12_nucleo**2 * E22_nucleo)\n",
    "Q66_value_nucleo = G12_nucleo"
   ]
  },
  {
   "cell_type": "code",
   "execution_count": 275,
   "id": "a6abb98d-3c6f-4adc-b164-611b15835fde",
   "metadata": {},
   "outputs": [],
   "source": [
    "Q = sp.zeros(3,3)\n",
    "Q[0,0] = Q11_value\n",
    "Q[0,1] = Q21_value\n",
    "Q[0,2] = 0\n",
    "Q[1,0] = Q21_value\n",
    "Q[1,1] = Q22_value\n",
    "Q[1,2] = 0\n",
    "Q[2,0] = 0\n",
    "Q[2,1] = 0\n",
    "Q[2,2] = Q66_value"
   ]
  },
  {
   "cell_type": "code",
   "execution_count": 276,
   "id": "af152874-526a-4404-814b-3d68a51f1bc1",
   "metadata": {},
   "outputs": [
    {
     "data": {
      "text/latex": [
       "$\\displaystyle \\left[\\begin{matrix}156.496561472533 & 4.27588992152373 & 0\\\\4.27588992152373 & 12.2168283472107 & 0\\\\0 & 0 & 4.4\\end{matrix}\\right]$"
      ],
      "text/plain": [
       "Matrix([\n",
       "[156.496561472533, 4.27588992152373,   0],\n",
       "[4.27588992152373, 12.2168283472107,   0],\n",
       "[               0,                0, 4.4]])"
      ]
     },
     "execution_count": 276,
     "metadata": {},
     "output_type": "execute_result"
    }
   ],
   "source": [
    "Q/1e9"
   ]
  },
  {
   "cell_type": "code",
   "execution_count": 277,
   "id": "0bc2bab4-6192-4a23-aa2a-6d60337a9eb4",
   "metadata": {},
   "outputs": [],
   "source": [
    "Q11, Q12, Q16, Q22, Q26, Q16, Q66 = sp.symbols('Q11 Q12 Q16 Q22 Q26 Q16 Q66')\n",
    "Q_barra = sp.zeros(3,3)\n",
    "Q_barra[0,0] =  Q11*m**4 + 2*m**2 * n**2 * (Q12 + 2*Q66) + Q22*n**4\n",
    "Q_barra[0,1] = (Q11 + Q22 - 4*Q66)*n**2 * m**2 + Q12*(n**4 + m**4)\n",
    "Q_barra[0,2] = (Q11 - Q12)*n*(m**3) + (Q12 - Q22)*(n**3)*m - 2*m*n*(m**2 - n**2)*Q66\n",
    "Q_barra[1,0] = (Q11 + Q22 - 4*Q66)*n**2 * m**2 + Q12*(n**4 + m**4)\n",
    "Q_barra[1,1] = Q11*n**4 + 2*(Q12 + 2*Q66)*n**2 * m**2 + Q22*m**4\n",
    "Q_barra[1,2] = (Q11 - Q12)*n**3*m + (Q12 - Q22)*n*m**3 + 2*m*n*(m**2 - n**2)*Q66\n",
    "Q_barra[2,0] = (Q11 - Q12)*n*m**3 + (Q12 - Q22)*n**3*m - 2*m*n*(m**2 - n**2)*Q66\n",
    "Q_barra[2,1] = (Q11 - Q12)*(n**3)*m + (Q12 - Q22)*n*(m**3) + 2*m*n*(m**2 - n**2)*Q66\n",
    "Q_barra[2,2] = (Q11 + Q22 - 2*Q12 - 2*Q66)*n**2 * m**2 + Q66*(n**4 + m**4)"
   ]
  },
  {
   "cell_type": "code",
   "execution_count": 278,
   "id": "2b7093d9-83a1-4571-873f-db3a9a153def",
   "metadata": {},
   "outputs": [],
   "source": [
    "# Lâminas com theta = 0\n",
    "Q_barra_0 = Q_barra.subs({\n",
    "    m:sp.cos(0),\n",
    "    n:sp.sin(0)\n",
    "})\n",
    "\n",
    "Q_barra_0 = Q_barra_0.subs({\n",
    "    Q11 :Q11_value,\n",
    "    Q12 : Q21_value,\n",
    "    Q66 : Q66_value,\n",
    "    Q22 : Q22_value\n",
    "})\n",
    "\n",
    "\n",
    "#Nucleo\n",
    "Q_barra_nucleo = Q_barra.subs({\n",
    "    m:sp.cos(0),\n",
    "    n:sp.sin(0)\n",
    "})\n",
    "\n",
    "Q_barra_nucleo = Q_barra_nucleo.subs({\n",
    "    Q11 :Q11_value_nucleo,\n",
    "    Q12 : Q21_value_nucleo,\n",
    "    Q66 : Q66_value_nucleo,\n",
    "    Q22 : Q22_value_nucleo\n",
    "})"
   ]
  },
  {
   "cell_type": "code",
   "execution_count": 279,
   "id": "b7341bf3-a345-43e0-8455-f3a0e20792e0",
   "metadata": {},
   "outputs": [],
   "source": [
    "# Lâminas com theta = pi/4\n",
    "Q_barra_45 = Q_barra.subs({\n",
    "    m:sp.cos(pi/4),\n",
    "    n:sp.sin(pi/4)\n",
    "})\n",
    "\n",
    "Q_barra_45 = Q_barra_45.subs({\n",
    "    Q11 :Q11_value,\n",
    "    Q12 : Q21_value,\n",
    "    Q66 : Q66_value,\n",
    "    Q22 : Q22_value\n",
    "})"
   ]
  },
  {
   "cell_type": "code",
   "execution_count": 280,
   "id": "9ee3cc94-a6c9-42eb-83be-00ec394447b4",
   "metadata": {},
   "outputs": [],
   "source": [
    "Q0 = Q_barra_0\n",
    "Q45 = Q_barra_45\n",
    "Q_nucleo = Q_barra_nucleo"
   ]
  },
  {
   "cell_type": "code",
   "execution_count": 281,
   "id": "48951f52-3d74-4942-8197-ef5fe77f40c4",
   "metadata": {},
   "outputs": [
    {
     "data": {
      "text/latex": [
       "$\\displaystyle \\left[\\begin{matrix}156.496561472533 & 4.27588992152373 & 0\\\\4.27588992152373 & 12.2168283472107 & 0\\\\0 & 0 & 4.4\\end{matrix}\\right]$"
      ],
      "text/plain": [
       "Matrix([\n",
       "[156.496561472533, 4.27588992152373,   0],\n",
       "[4.27588992152373, 12.2168283472107,   0],\n",
       "[               0,                0, 4.4]])"
      ]
     },
     "execution_count": 281,
     "metadata": {},
     "output_type": "execute_result"
    }
   ],
   "source": [
    "Q0/1e9"
   ]
  },
  {
   "cell_type": "code",
   "execution_count": 282,
   "id": "82673973-7dd9-453f-a6ca-134aa2de0fe6",
   "metadata": {},
   "outputs": [
    {
     "data": {
      "text/latex": [
       "$\\displaystyle \\left[\\begin{matrix}48.7162924156979 & 39.9162924156979 & 36.0699332813307\\\\39.9162924156979 & 48.7162924156979 & 36.0699332813307\\\\36.0699332813307 & 36.0699332813307 & 40.0404024941741\\end{matrix}\\right]$"
      ],
      "text/plain": [
       "Matrix([\n",
       "[48.7162924156979, 39.9162924156979, 36.0699332813307],\n",
       "[39.9162924156979, 48.7162924156979, 36.0699332813307],\n",
       "[36.0699332813307, 36.0699332813307, 40.0404024941741]])"
      ]
     },
     "execution_count": 282,
     "metadata": {},
     "output_type": "execute_result"
    }
   ],
   "source": [
    "Q45/1e9"
   ]
  },
  {
   "cell_type": "code",
   "execution_count": 283,
   "id": "eafc48fd-af2f-4320-96dd-a4a26fb27dbe",
   "metadata": {},
   "outputs": [
    {
     "data": {
      "text/latex": [
       "$\\displaystyle \\left[\\begin{matrix}85.4700854700855 & 280.0 & 0\\\\280.0 & 320.0 & 0\\\\0 & 0 & 20.0\\end{matrix}\\right]$"
      ],
      "text/plain": [
       "Matrix([\n",
       "[85.4700854700855, 280.0,    0],\n",
       "[           280.0, 320.0,    0],\n",
       "[               0,     0, 20.0]])"
      ]
     },
     "execution_count": 283,
     "metadata": {},
     "output_type": "execute_result"
    }
   ],
   "source": [
    "Q_nucleo/1e6"
   ]
  },
  {
   "cell_type": "code",
   "execution_count": 284,
   "id": "771aca8f-ad08-4f32-b366-fe33e6435a54",
   "metadata": {},
   "outputs": [],
   "source": [
    "A = sp.zeros(3)\n",
    "B = sp.zeros(3)\n",
    "D = sp.zeros(3)"
   ]
  },
  {
   "cell_type": "code",
   "execution_count": 285,
   "id": "b38bd8a8-223b-41fc-b3b6-e1ea2f684fa5",
   "metadata": {},
   "outputs": [
    {
     "data": {
      "text/latex": [
       "$\\displaystyle \\left[\\begin{matrix}43.6066733417491 & 17.2384364674443 & 7.21398665626609\\\\17.2384364674443 & 21.7866241525817 & 7.21398665626609\\\\7.21398665626609 & 7.21398665626609 & 9.48808049883479\\end{matrix}\\right]$"
      ],
      "text/plain": [
       "Matrix([\n",
       "[43.6066733417491, 17.2384364674443, 7.21398665626609],\n",
       "[17.2384364674443, 21.7866241525817, 7.21398665626609],\n",
       "[7.21398665626609, 7.21398665626609, 9.48808049883479]])"
      ]
     },
     "execution_count": 285,
     "metadata": {},
     "output_type": "execute_result"
    }
   ],
   "source": [
    "A = Q0*(h1-h0) + Q45*(h2-h1) + Q_nucleo*(h3-h2) + Q_nucleo*(h4-h3) + Q45*(h5-h4) + Q0*(h6-h5)\n",
    "A/1e6"
   ]
  },
  {
   "cell_type": "code",
   "execution_count": 286,
   "id": "d7d4ba58-0fc2-4c3f-bf5d-145c319042dd",
   "metadata": {},
   "outputs": [
    {
     "data": {
      "text/latex": [
       "$\\displaystyle \\left[\\begin{matrix}0 & 0 & 0\\\\0 & 0 & 0\\\\0 & 0 & 0\\end{matrix}\\right]$"
      ],
      "text/plain": [
       "Matrix([\n",
       "[0, 0, 0],\n",
       "[0, 0, 0],\n",
       "[0, 0, 0]])"
      ]
     },
     "execution_count": 286,
     "metadata": {},
     "output_type": "execute_result"
    }
   ],
   "source": [
    "B = (Q0*(h1**2-h0**2) + Q45*(h2**2-h1**2) + Q_nucleo*(h3**2-h2**2) + Q_nucleo*(h4**2-h3**2) +\n",
    "     Q45*(h5**2-h4**2) + Q0*(h6**2-h5**2))/2\n",
    "B[0,1] = 0\n",
    "B[1,0] = 0\n",
    "B[2,2] = 0\n",
    "B[0,0] = 0\n",
    "B[1,1] = 0\n",
    "\n",
    "B/1e3"
   ]
  },
  {
   "cell_type": "code",
   "execution_count": 287,
   "id": "eba1a20a-7a3f-4a5b-ae43-fc6fd8bf2411",
   "metadata": {},
   "outputs": [
    {
     "data": {
      "text/latex": [
       "$\\displaystyle \\left[\\begin{matrix}9.58311070514329 & 2.63451795884362 & 1.63399202426646\\\\2.63451795884362 & 3.48768995696198 & 1.63399202426646\\\\1.63399202426646 & 1.63399202426646 & 2.06083745992108\\end{matrix}\\right]$"
      ],
      "text/plain": [
       "Matrix([\n",
       "[9.58311070514329, 2.63451795884362, 1.63399202426646],\n",
       "[2.63451795884362, 3.48768995696198, 1.63399202426646],\n",
       "[1.63399202426646, 1.63399202426646, 2.06083745992108]])"
      ]
     },
     "execution_count": 287,
     "metadata": {},
     "output_type": "execute_result"
    }
   ],
   "source": [
    "D = (Q0*(h1**3-h0**3) + Q45*(h2**3-h1**3) + Q_nucleo*(h3**3-h2**3) + Q_nucleo*(h4**3-h3**3) + Q45*(h5**3-h4**3) + Q0*(h6**3-h5**3))/3\n",
    "D/1e3"
   ]
  },
  {
   "cell_type": "code",
   "execution_count": 288,
   "id": "d5c4ea56-d8d9-43d8-8bac-126bf0851107",
   "metadata": {},
   "outputs": [],
   "source": [
    "A_ast= A.inv()\n",
    "B_ast= -A.inv() * B\n",
    "C_ast= -B_ast.T\n",
    "D_ast= D - B*A.inv()*B"
   ]
  },
  {
   "cell_type": "code",
   "execution_count": 289,
   "id": "782611a3-bc2d-472f-9a9a-23487ddf159c",
   "metadata": {},
   "outputs": [],
   "source": [
    "A_linha = A_ast + (B_ast)*(D_ast.inv())*B_ast.T\n",
    "B_linha = (B_ast)*(D_ast.inv())\n",
    "C_linha = B_linha\n",
    "D_linha = D_ast.inv()"
   ]
  },
  {
   "cell_type": "code",
   "execution_count": 290,
   "id": "13f184e2-171d-4b93-a438-0699dd8b7b78",
   "metadata": {},
   "outputs": [],
   "source": [
    "episilon0 = A_linha*N + B_linha*M\n",
    "K = C_linha*N + D_linha*M"
   ]
  },
  {
   "cell_type": "code",
   "execution_count": 291,
   "id": "a960c91c-4bd8-49a9-a618-32da67021181",
   "metadata": {},
   "outputs": [
    {
     "data": {
      "text/latex": [
       "$\\displaystyle \\left[\\begin{matrix}0.0133873956052444\\\\-0.00817706162525351\\\\-0.00413115751855353\\end{matrix}\\right]$"
      ],
      "text/plain": [
       "Matrix([\n",
       "[  0.0133873956052444],\n",
       "[-0.00817706162525351],\n",
       "[-0.00413115751855353]])"
      ]
     },
     "execution_count": 291,
     "metadata": {},
     "output_type": "execute_result"
    }
   ],
   "source": [
    "K"
   ]
  },
  {
   "cell_type": "code",
   "execution_count": 292,
   "id": "d0802b69-4720-442e-93e5-a15239ad6e50",
   "metadata": {},
   "outputs": [
    {
     "data": {
      "text/latex": [
       "$\\displaystyle \\left[\\begin{matrix}-0.00254382729708474\\\\0.0227681367683091\\\\-0.0153769667822196\\end{matrix}\\right]$"
      ],
      "text/plain": [
       "Matrix([\n",
       "[-0.00254382729708474],\n",
       "[  0.0227681367683091],\n",
       "[ -0.0153769667822196]])"
      ]
     },
     "execution_count": 292,
     "metadata": {},
     "output_type": "execute_result"
    }
   ],
   "source": [
    "episilon0*1000"
   ]
  },
  {
   "cell_type": "code",
   "execution_count": 293,
   "id": "36a1af7e-20c7-47e4-aa73-6c43b5b8c2df",
   "metadata": {},
   "outputs": [],
   "source": [
    "T = sp.zeros(3)\n",
    "T[0,0] = m**2 \n",
    "T[0,1] = n**2\n",
    "T[0,2] = 2*m*n\n",
    "T[1,0] = n**2\n",
    "T[1,1] = m**2\n",
    "T[1,2] = -2*m*n\n",
    "T[2,0] = -m*n\n",
    "T[2,1] = m*n\n",
    "T[2,2] = (m**2 - n**2)"
   ]
  },
  {
   "cell_type": "code",
   "execution_count": 294,
   "id": "d45da12b-0883-43a1-9767-0f4c0028e05d",
   "metadata": {},
   "outputs": [],
   "source": [
    "T_45 = T.subs({\n",
    "    m:sp.cos(pi/4),\n",
    "    n:sp.sin(pi/4)\n",
    "})\n",
    "\n",
    "T_0 = T.subs({\n",
    "    m:sp.cos(0),\n",
    "    n:sp.sin(0)\n",
    "})"
   ]
  },
  {
   "cell_type": "code",
   "execution_count": 295,
   "id": "fd8d1bd4-eb48-4e1b-a9d2-acac094a9d78",
   "metadata": {},
   "outputs": [],
   "source": [
    "def tensao_deformacao(Q_barra_X, z, T, h_lamina ):\n",
    "    \n",
    "    dict_tensao_deformacao_local = {\"sigma\":{\"botton\":[], \"mid\":[], \"top\":[]}, \"epsilon\":{\"botton\":[], \"mid\":[], \"top\":[]}}\n",
    "    dict_tensao_deformacao_global = {\"sigma\":{\"botton\":[], \"mid\":[], \"top\":[]}, \"epsilon\":{\"botton\":[], \"mid\":[], \"top\":[]}}\n",
    "    \n",
    "    #Q_barra é o Q_barra correspondente de cada lâmina\n",
    "\n",
    "    z_botton = z\n",
    "    z_mid = z + h_lamina/2\n",
    "    z_top = z + h_lamina\n",
    "    \n",
    "    sigma_global_botton = Q_barra_X*(episilon0 + z_botton*K)\n",
    "    sigma_local_botton = T*sigma_global_botton\n",
    "    epsilon_global_botton = episilon0 + z_botton*K\n",
    "    epsilon_local_botton = T*epsilon_global_botton\n",
    "\n",
    "    sigma_global_mid = Q_barra_X*(episilon0 + z_mid*K)\n",
    "    sigma_local_mid = T*sigma_global_mid\n",
    "    epsilon_global_mid = episilon0 + z_mid*K\n",
    "    epsilon_local_mid = T*epsilon_global_mid\n",
    "\n",
    "    \n",
    "    sigma_global_top = Q_barra_X*(episilon0 + z_top*K)\n",
    "    sigma_local_top = T*sigma_global_top\n",
    "    epsilon_global_top = episilon0 + z_top*K\n",
    "    epsilon_local_top = T*epsilon_global_top\n",
    "    \n",
    "    \n",
    "    dict_tensao_deformacao_global['sigma']['botton'] = sigma_global_botton/1e6\n",
    "    dict_tensao_deformacao_global['sigma']['mid'] = sigma_global_mid/1e6\n",
    "    dict_tensao_deformacao_global['sigma']['top'] = sigma_global_top/1e6\n",
    "    dict_tensao_deformacao_global['epsilon']['botton'] =epsilon_global_botton\n",
    "    dict_tensao_deformacao_global['epsilon']['mid'] = epsilon_global_mid\n",
    "    dict_tensao_deformacao_global['epsilon']['top'] = epsilon_global_top\n",
    "    \n",
    "\n",
    "    dict_tensao_deformacao_local['sigma']['botton'] = sigma_local_botton/1e6\n",
    "    dict_tensao_deformacao_local['sigma']['mid'] = sigma_local_mid/1e6\n",
    "    dict_tensao_deformacao_local['sigma']['top'] = sigma_local_top/1e6\n",
    "    dict_tensao_deformacao_local['epsilon']['botton'] =epsilon_local_botton\n",
    "    dict_tensao_deformacao_local['epsilon']['mid'] = epsilon_local_mid\n",
    "    dict_tensao_deformacao_local['epsilon']['top'] = epsilon_local_top\n",
    "    \n",
    "\n",
    "    #Printando tensões em [MPa] e deformações em [mm]\n",
    "    print(\"BOTTON\")\n",
    "    print(\"SIGMA_GLOBAL: {}\".format(sigma_global_botton/1e6))\n",
    "    print(\"EPSILON_GLOBAL: {}\".format(1000*epsilon_global_botton))\n",
    "    print(\"SIGMA_LOCAL: {}\".format(sigma_local_botton/1e6))\n",
    "    print(\"EPSILON_LOCAL: {}\".format(1000*epsilon_local_botton))\n",
    "\n",
    "    print(\"----------------------------------------------------\")\n",
    "    print(\"MID\")\n",
    "    print(\"SIGMA_GLOBAL: {}\".format(sigma_global_mid/1e6))\n",
    "    print(\"EPSILON_GLOBAL: {}\".format(1000*epsilon_global_mid))\n",
    "    print(\"SIGMA_LOCAL: {}\".format(sigma_local_mid/1e6))\n",
    "    print(\"EPSILON_LOCAL: {}\".format(1000*epsilon_local_mid))\n",
    "    print(\"----------------------------------------------------\")\n",
    "    print(\"TOP\")\n",
    "    print(\"SIGMA_GLOBAL: {}\".format(sigma_global_top/1e6))\n",
    "    print(\"EPSILON_GLOBAL: {}\".format(1000*epsilon_global_top))\n",
    "    print(\"SIGMA_LOCAL: {}\".format(sigma_local_top/1e6))\n",
    "    print(\"EPSILON_LOCAL: {}\".format(1000*epsilon_local_top))\n",
    "    print(\"----------------------------------------------------\")\n",
    "    \n",
    "    #Retornando tensões em [MPa] e deformacoes em [m]\n",
    "    #return sigma_local_botton/1e6, epsilon_local_botton, sigma_local_mid/1e6, epsilon_local_mid, sigma_local_top/1e6, epsilon_local_top\n",
    "    return dict_tensao_deformacao_local"
   ]
  },
  {
   "cell_type": "code",
   "execution_count": 296,
   "id": "505ba23b-87d4-42fb-b894-ec1ceab05c39",
   "metadata": {},
   "outputs": [
    {
     "name": "stdout",
     "output_type": "stream",
     "text": [
      "BOTTON\n",
      "SIGMA_GLOBAL: Matrix([[-31.6145270697471], [0.915629163591366], [0.208633160999094]])\n",
      "EPSILON_GLOBAL: Matrix([[-0.206032240496800], [0.147059473472162], [0.0474166274997940]])\n",
      "SIGMA_LOCAL: Matrix([[-31.6145270697471], [0.915629163591366], [0.208633160999094]])\n",
      "EPSILON_LOCAL: Matrix([[-0.206032240496800], [0.147059473472162], [0.0474166274997940]])\n",
      "----------------------------------------------------\n",
      "MID\n",
      "SIGMA_GLOBAL: Matrix([[-31.5115212115520], [0.913496427175547], [0.207724306345012]])\n",
      "EPSILON_GLOBAL: Matrix([[-0.205362870716538], [0.146650620390900], [0.0472100696238664]])\n",
      "SIGMA_LOCAL: Matrix([[-31.5115212115520], [0.913496427175547], [0.207724306345012]])\n",
      "EPSILON_LOCAL: Matrix([[-0.205362870716538], [0.146650620390900], [0.0472100696238664]])\n",
      "----------------------------------------------------\n",
      "TOP\n",
      "SIGMA_GLOBAL: Matrix([[-31.4085153533569], [0.911363690759729], [0.206815451690930]])\n",
      "EPSILON_GLOBAL: Matrix([[-0.204693500936276], [0.146241767309637], [0.0470035117479387]])\n",
      "SIGMA_LOCAL: Matrix([[-31.4085153533569], [0.911363690759729], [0.206815451690930]])\n",
      "EPSILON_LOCAL: Matrix([[-0.204693500936276], [0.146241767309637], [0.0470035117479387]])\n",
      "----------------------------------------------------\n"
     ]
    }
   ],
   "source": [
    "# Lâmina 1, com 0º\n",
    "lamina1_sigma_epsilon = tensao_deformacao(Q_barra_X = Q_barra_0, z = h0, T = T_0, h_lamina = h_skin)"
   ]
  },
  {
   "cell_type": "code",
   "execution_count": 297,
   "id": "c0a873a4-1f45-4932-9343-b1223cc5800a",
   "metadata": {},
   "outputs": [
    {
     "name": "stdout",
     "output_type": "stream",
     "text": [
      "BOTTON\n",
      "SIGMA_GLOBAL: Matrix([[-2.43906576714823], [0.649164593415801], [-0.226310603063867]])\n",
      "EPSILON_GLOBAL: Matrix([[-0.204693500936276], [0.146241767309637], [0.0470035117479387]])\n",
      "SIGMA_LOCAL: Matrix([[-1.12126118993008], [-0.668639983802348], [1.54411518028202]])\n",
      "EPSILON_LOCAL: Matrix([[0.0177776449346193], [-0.0762293785612581], [0.175467634122956]])\n",
      "----------------------------------------------------\n",
      "MID\n",
      "SIGMA_GLOBAL: Matrix([[-2.43022698114893], [0.648515018233683], [-0.225184443602768]])\n",
      "EPSILON_GLOBAL: Matrix([[-0.204024131156014], [0.145832914228374], [0.0467969538720110]])\n",
      "SIGMA_LOCAL: Matrix([[-1.11604042506039], [-0.665671537854857], [1.53937099969131]])\n",
      "EPSILON_LOCAL: Matrix([[0.0177013454081914], [-0.0758925623358307], [0.174928522692194]])\n",
      "----------------------------------------------------\n",
      "TOP\n",
      "SIGMA_GLOBAL: Matrix([[-2.42138819514963], [0.647865443051565], [-0.224058284141667]])\n",
      "EPSILON_GLOBAL: Matrix([[-0.203354761375751], [0.145424061147112], [0.0465903959960833]])\n",
      "SIGMA_LOCAL: Matrix([[-1.11081966019070], [-0.662703091907366], [1.53462681910060]])\n",
      "EPSILON_LOCAL: Matrix([[0.0176250458817635], [-0.0755557461104032], [0.174389411261432]])\n",
      "----------------------------------------------------\n"
     ]
    }
   ],
   "source": [
    "# Lâmina 2, com 45º\n",
    "lamina2_sigma_epsilon = tensao_deformacao(Q_barra_X = Q_barra_45, z = h1, T = T_45, h_lamina = h_skin)"
   ]
  },
  {
   "cell_type": "code",
   "execution_count": 298,
   "id": "d5bba4cd-33e8-4c48-9db3-5141bcedac5e",
   "metadata": {},
   "outputs": [
    {
     "name": "stdout",
     "output_type": "stream",
     "text": [
      "BOTTON\n",
      "SIGMA_GLOBAL: Matrix([[-31.2025036369666], [0.907098217928092], [0.204997742382767]])\n",
      "EPSILON_GLOBAL: Matrix([[-0.203354761375751], [0.145424061147112], [0.0465903959960833]])\n",
      "SIGMA_LOCAL: Matrix([[-31.2025036369666], [0.907098217928092], [0.204997742382767]])\n",
      "EPSILON_LOCAL: Matrix([[-0.203354761375751], [0.145424061147112], [0.0465903959960833]])\n",
      "----------------------------------------------------\n",
      "MID\n",
      "SIGMA_GLOBAL: Matrix([[-0.300746178434243], [0.267277293182546], [-0.0676586538417662]])\n",
      "EPSILON_GLOBAL: Matrix([[-0.00254382729708474], [0.0227681367683091], [-0.0153769667822196]])\n",
      "SIGMA_LOCAL: Matrix([[-0.300746178434243], [0.267277293182546], [-0.0676586538417662]])\n",
      "EPSILON_LOCAL: Matrix([[-0.00254382729708474], [0.0227681367683091], [-0.0153769667822196]])\n",
      "----------------------------------------------------\n",
      "TOP\n",
      "SIGMA_GLOBAL: Matrix([[30.6010112800981], [-0.372543631563000], [-0.340315050066299]])\n",
      "EPSILON_GLOBAL: Matrix([[0.198267106781582], [-0.0998877876104936], [-0.0773443295605225]])\n",
      "SIGMA_LOCAL: Matrix([[30.6010112800981], [-0.372543631563000], [-0.340315050066299]])\n",
      "EPSILON_LOCAL: Matrix([[0.198267106781582], [-0.0998877876104936], [-0.0773443295605225]])\n",
      "----------------------------------------------------\n"
     ]
    }
   ],
   "source": [
    "# Núcleo\n",
    "lamina3_sigma_epsilon = tensao_deformacao(Q_barra_X = Q_barra_0, z = h2, T = T_0, h_lamina = h_PVC)"
   ]
  },
  {
   "cell_type": "code",
   "execution_count": 299,
   "id": "9fd11339-a85d-4a8c-9aae-cc6f26f37d26",
   "metadata": {},
   "outputs": [],
   "source": [
    "class criterios:\n",
    "        \n",
    "    def __init__(self, lamina_sigma_epsilon):\n",
    "        \n",
    "        self.dict_margens = {\"botton\" : {\"max_tensao\": {}, \"max_deformacao\": {}, \"tsai_wu\": {}, \"tsai_hill\":{}},\n",
    "                \"mid\":{\"max_tensao\": {}, \"max_deformacao\": {}, \"tsai_wu\": {}, \"tsai_hill\":{}},\n",
    "                \"top\":{\"max_tensao\": {}, \"max_deformacao\": {}, \"tsai_wu\": {}, \"tsai_hill\":{}}}\n",
    "               \n",
    "        self.lamina = lamina_sigma_epsilon\n",
    "        \n",
    "        #[MPa]\n",
    "        self.XT = 250\n",
    "        self.YT = 40\n",
    "        self.XC = -180\n",
    "        self.YC = -45\n",
    "        self.S12 = 47\n",
    "\n",
    "        #[m]\n",
    "        self.XT_linha = 0.020\n",
    "        self.YT_linha = 0.007\n",
    "        self.XC_linha = -0.018\n",
    "        self.YC_linha = -0.012\n",
    "        self.S12_linha = 0.010\n",
    "        \n",
    "    def max_tensao(self, lamina):\n",
    "        \n",
    "        sigma_1 = lamina[0] \n",
    "        sigma_2 = lamina[1]\n",
    "        sigma_12 = lamina[2]\n",
    "        \n",
    "        if sigma_1 > 0:\n",
    "            MS_1 = self.XT/sigma_1 - 1\n",
    "        else:\n",
    "            MS_1 = self.XC/sigma_1 - 1 \n",
    "            \n",
    "        if sigma_2 > 0:\n",
    "            MS_2 = self.YT/sigma_2 - 1\n",
    "        else:\n",
    "            MS_2 = self.YC/sigma_2 - 1\n",
    "            \n",
    "        MS_12 = self.S12/abs(sigma_12) - 1\n",
    "        \n",
    "        return sp.Matrix([MS_1,MS_2,MS_12])\n",
    "            \n",
    "    def max_deformacao(self, lamina):\n",
    "        \n",
    "        epsilon_1 = lamina[0] \n",
    "        epsilon_2 = lamina[1]\n",
    "        epsilon_12 = lamina[2]\n",
    "                \n",
    "        if epsilon_1 > 0:\n",
    "            MS_1 = self.XT_linha/epsilon_1 - 1\n",
    "        else:\n",
    "            MS_1 = self.XC_linha/epsilon_1 - 1 \n",
    "            \n",
    "        if epsilon_2 > 0:\n",
    "            MS_2 = self.YT_linha/epsilon_2 - 1\n",
    "        else:\n",
    "            MS_2 = self.YC_linha/epsilon_2 - 1\n",
    "            \n",
    "        MS_12 = self.S12_linha/abs(epsilon_12) - 1\n",
    "        \n",
    "        return sp.Matrix([MS_1,MS_2,MS_12])\n",
    "        \n",
    "    def tsai_wu(self, lamina):\n",
    "        \n",
    "        sigma_1 = lamina[0] \n",
    "        sigma_2 = lamina[1]\n",
    "        sigma_12 = lamina[2]\n",
    "        \n",
    "        \n",
    "        F1 = 1/self.XT + 1/self.XC\n",
    "        F11 = -1/(self.XT*self.XC)\n",
    "        F2 = 1/self.YT + 1/self.YC\n",
    "        F22 = -1/(self.YT*self.YC)\n",
    "        F66 = (1/self.S12)**2\n",
    "        F12 = -0.5*(F11*F22)**.5\n",
    "        \n",
    "        A = F11*sigma_1**2 + F22*sigma_2**2 + F66*sigma_12**2 + 2 *F12*sigma_1*sigma_2\n",
    "        B = F1*sigma_1 + F2*sigma_2\n",
    "        \n",
    "        Sf_menos = abs((-B - (B**2 + 4*A)**.5)/(2*A))\n",
    "        Sf_mais = (-B + (B**2 + 4*A)**.5)/(2*A)\n",
    "        \n",
    "        MS_menos =  Sf_menos - 1\n",
    "        MS_mais = Sf_mais - 1\n",
    "        \n",
    "        return MS_mais\n",
    "        \n",
    "    def tsai_hill(self, lamina):\n",
    "        \n",
    "        sigma_1 = lamina[0] \n",
    "        sigma_2 = lamina[1]\n",
    "        sigma_12 = lamina[2]\n",
    "        \n",
    "        if sigma_1 >0 and sigma_2 > 0:\n",
    "            self.f_sigma = (sigma_1**2)/self.XT**2 + (sigma_2**2)/self.YT**2 - (sigma_1*sigma_2)/self.XT**2 + (sigma_12**2)/self.S12**2\n",
    "        elif sigma_1>0 and sigma_2<0:\n",
    "            self.f_sigma = (sigma_1**2)/self.XT**2 + (sigma_2**2)/self.YC**2 - (sigma_1*sigma_2)/self.XT**2 + (sigma_12**2)/self.S12**2\n",
    "        elif sigma_1<0 and sigma_2<0:\n",
    "            self.f_sigma = (sigma_1**2)/self.XC**2 + (sigma_2**2)/self.YC**2 - (sigma_1*sigma_2)/self.XC**2 + (sigma_12**2)/self.S12**2\n",
    "        elif sigma_1<0 and sigma_2>0:\n",
    "            self.f_sigma = (sigma_1**2)/self.XC**2 + (sigma_2**2)/self.YT**2 - (sigma_1*sigma_2)/self.XC**2 + (sigma_12**2)/self.S12**2\n",
    "        \n",
    "        self.FS = self.f_sigma**.5\n",
    "        self.MS = 1/self.FS - 1\n",
    "        \n",
    "        return self.MS\n",
    "    \n",
    "    def calculo_margens(self):\n",
    "    \n",
    "        for posicao in ['botton', 'mid', 'top']:\n",
    "            \n",
    "            self.dict_margens[posicao]['max_tensao'] = self.max_tensao(self.lamina['sigma'][posicao])\n",
    "            self.dict_margens[posicao]['max_deformacao'] = self.max_deformacao(self.lamina['epsilon'][posicao])\n",
    "            self.dict_margens[posicao]['tsai_wu'] = self.tsai_wu(self.lamina['sigma'][posicao])\n",
    "            self.dict_margens[posicao]['tsai_hill'] = self.tsai_hill(self.lamina['sigma'][posicao])\n",
    "            \n",
    "        return self.dict_margens"
   ]
  },
  {
   "cell_type": "code",
   "execution_count": 300,
   "id": "52518a3a-a556-4523-a63c-67990f322dc4",
   "metadata": {},
   "outputs": [],
   "source": [
    "ms_lamina1 = criterios(lamina1_sigma_epsilon).calculo_margens()\n",
    "ms_lamina2 = criterios(lamina2_sigma_epsilon).calculo_margens()\n",
    "ms_lamina3 = criterios(lamina3_sigma_epsilon).calculo_margens()"
   ]
  },
  {
   "cell_type": "code",
   "execution_count": 318,
   "id": "bb0fb5e0-6391-4d77-95f3-856567051266",
   "metadata": {},
   "outputs": [
    {
     "data": {
      "text/latex": [
       "$\\displaystyle \\left[\\begin{matrix}7.16966464642923\\\\119.791220644957\\\\137.10732140951\\end{matrix}\\right]$"
      ],
      "text/plain": [
       "Matrix([\n",
       "[7.16966464642923],\n",
       "[119.791220644957],\n",
       "[ 137.10732140951]])"
      ]
     },
     "execution_count": 318,
     "metadata": {},
     "output_type": "execute_result"
    }
   ],
   "source": [
    "ms_lamina3['top']['max_tensao']"
   ]
  }
 ],
 "metadata": {
  "kernelspec": {
   "display_name": "Python 3",
   "language": "python",
   "name": "python3"
  },
  "language_info": {
   "codemirror_mode": {
    "name": "ipython",
    "version": 3
   },
   "file_extension": ".py",
   "mimetype": "text/x-python",
   "name": "python",
   "nbconvert_exporter": "python",
   "pygments_lexer": "ipython3",
   "version": "3.8.11"
  }
 },
 "nbformat": 4,
 "nbformat_minor": 5
}
